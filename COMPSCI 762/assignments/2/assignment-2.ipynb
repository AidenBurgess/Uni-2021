{
 "cells": [
  {
   "cell_type": "markdown",
   "id": "posted-chase",
   "metadata": {},
   "source": [
    "# Assignment 2"
   ]
  },
  {
   "cell_type": "code",
   "execution_count": 1,
   "id": "processed-denial",
   "metadata": {},
   "outputs": [],
   "source": [
    "import os\n",
    "\n",
    "import numpy as np\n",
    "from sklearn import tree\n",
    "from sklearn.tree import DecisionTreeClassifier\n",
    "from sklearn.ensemble import RandomForestClassifier\n",
    "from sklearn.ensemble import AdaBoostClassifier\n",
    "from sklearn.ensemble import BaggingClassifier\n",
    "from sklearn.ensemble import GradientBoostingClassifier\n",
    "from sklearn import datasets\n",
    "from sklearn.model_selection import train_test_split\n",
    "from sklearn.model_selection import cross_val_score\n",
    "import matplotlib.pyplot as plt\n",
    "import pandas as pd\n",
    "from autorank import autorank, create_report, plot_stats"
   ]
  },
  {
   "cell_type": "code",
   "execution_count": 2,
   "id": "confirmed-stable",
   "metadata": {},
   "outputs": [],
   "source": [
    "# Reload local python files every 2 seconds\n",
    "%load_ext autoreload\n",
    "%autoreload 2"
   ]
  },
  {
   "cell_type": "code",
   "execution_count": 3,
   "id": "crucial-genesis",
   "metadata": {},
   "outputs": [],
   "source": [
    "RANDOM_STATE = 1234\n",
    "np.random.seed(RANDOM_STATE)"
   ]
  },
  {
   "cell_type": "markdown",
   "id": "completed-spanish",
   "metadata": {},
   "source": [
    "## 1. Load in Data"
   ]
  },
  {
   "cell_type": "code",
   "execution_count": 4,
   "id": "peripheral-royalty",
   "metadata": {
    "tags": []
   },
   "outputs": [
    {
     "data": {
      "text/html": [
       "<div>\n",
       "<style scoped>\n",
       "    .dataframe tbody tr th:only-of-type {\n",
       "        vertical-align: middle;\n",
       "    }\n",
       "\n",
       "    .dataframe tbody tr th {\n",
       "        vertical-align: top;\n",
       "    }\n",
       "\n",
       "    .dataframe thead th {\n",
       "        text-align: right;\n",
       "    }\n",
       "</style>\n",
       "<table border=\"1\" class=\"dataframe\">\n",
       "  <thead>\n",
       "    <tr style=\"text-align: right;\">\n",
       "      <th></th>\n",
       "      <th>0</th>\n",
       "      <th>1</th>\n",
       "      <th>2</th>\n",
       "      <th>3</th>\n",
       "      <th>4</th>\n",
       "      <th>5</th>\n",
       "      <th>6</th>\n",
       "      <th>7</th>\n",
       "      <th>8</th>\n",
       "      <th>9</th>\n",
       "      <th>...</th>\n",
       "      <th>90</th>\n",
       "      <th>91</th>\n",
       "      <th>92</th>\n",
       "      <th>93</th>\n",
       "      <th>94</th>\n",
       "      <th>95</th>\n",
       "      <th>96</th>\n",
       "      <th>97</th>\n",
       "      <th>98</th>\n",
       "      <th>99</th>\n",
       "    </tr>\n",
       "  </thead>\n",
       "  <tbody>\n",
       "    <tr>\n",
       "      <th>0</th>\n",
       "      <td>NaN</td>\n",
       "      <td>-0.176595</td>\n",
       "      <td>-4.126644</td>\n",
       "      <td>-2.390884</td>\n",
       "      <td>-1.366659</td>\n",
       "      <td>-0.460177</td>\n",
       "      <td>1.521421</td>\n",
       "      <td>5.328470</td>\n",
       "      <td>-2.919639</td>\n",
       "      <td>-6.216557</td>\n",
       "      <td>...</td>\n",
       "      <td>-1.919015</td>\n",
       "      <td>-1.603442</td>\n",
       "      <td>-0.867395</td>\n",
       "      <td>-1.825951</td>\n",
       "      <td>-2.390884</td>\n",
       "      <td>4.107535</td>\n",
       "      <td>3.817897</td>\n",
       "      <td>-0.823303</td>\n",
       "      <td>-5.271267</td>\n",
       "      <td>2.353398</td>\n",
       "    </tr>\n",
       "    <tr>\n",
       "      <th>1</th>\n",
       "      <td>0.267386</td>\n",
       "      <td>NaN</td>\n",
       "      <td>-1.820798</td>\n",
       "      <td>1.540020</td>\n",
       "      <td>1.656770</td>\n",
       "      <td>0.447912</td>\n",
       "      <td>6.484100</td>\n",
       "      <td>2.356129</td>\n",
       "      <td>-1.129611</td>\n",
       "      <td>3.195601</td>\n",
       "      <td>...</td>\n",
       "      <td>1.394421</td>\n",
       "      <td>-1.872976</td>\n",
       "      <td>-0.382098</td>\n",
       "      <td>-1.980864</td>\n",
       "      <td>1.540020</td>\n",
       "      <td>-1.267888</td>\n",
       "      <td>-1.843256</td>\n",
       "      <td>1.105676</td>\n",
       "      <td>-0.344550</td>\n",
       "      <td>-6.653773</td>\n",
       "    </tr>\n",
       "    <tr>\n",
       "      <th>2</th>\n",
       "      <td>2.946515</td>\n",
       "      <td>-1.594067</td>\n",
       "      <td>NaN</td>\n",
       "      <td>0.403844</td>\n",
       "      <td>-1.733342</td>\n",
       "      <td>0.274193</td>\n",
       "      <td>2.960081</td>\n",
       "      <td>0.326221</td>\n",
       "      <td>0.393324</td>\n",
       "      <td>0.229915</td>\n",
       "      <td>...</td>\n",
       "      <td>-0.290845</td>\n",
       "      <td>-0.076589</td>\n",
       "      <td>-4.660688</td>\n",
       "      <td>-1.652196</td>\n",
       "      <td>0.403844</td>\n",
       "      <td>-4.317565</td>\n",
       "      <td>-2.506476</td>\n",
       "      <td>3.422634</td>\n",
       "      <td>-0.272146</td>\n",
       "      <td>-3.345401</td>\n",
       "    </tr>\n",
       "    <tr>\n",
       "      <th>3</th>\n",
       "      <td>-4.581082</td>\n",
       "      <td>-0.001274</td>\n",
       "      <td>1.197022</td>\n",
       "      <td>NaN</td>\n",
       "      <td>-0.416290</td>\n",
       "      <td>-1.941236</td>\n",
       "      <td>0.290991</td>\n",
       "      <td>0.507716</td>\n",
       "      <td>-0.397205</td>\n",
       "      <td>4.399152</td>\n",
       "      <td>...</td>\n",
       "      <td>1.046033</td>\n",
       "      <td>-4.498888</td>\n",
       "      <td>7.150844</td>\n",
       "      <td>0.722794</td>\n",
       "      <td>-2.944502</td>\n",
       "      <td>-0.081950</td>\n",
       "      <td>0.186089</td>\n",
       "      <td>-7.066950</td>\n",
       "      <td>2.488842</td>\n",
       "      <td>-2.770303</td>\n",
       "    </tr>\n",
       "    <tr>\n",
       "      <th>4</th>\n",
       "      <td>-2.123360</td>\n",
       "      <td>-0.266587</td>\n",
       "      <td>1.781999</td>\n",
       "      <td>-0.039342</td>\n",
       "      <td>NaN</td>\n",
       "      <td>0.895856</td>\n",
       "      <td>3.756880</td>\n",
       "      <td>-4.583167</td>\n",
       "      <td>1.652762</td>\n",
       "      <td>7.673453</td>\n",
       "      <td>...</td>\n",
       "      <td>1.371734</td>\n",
       "      <td>4.458045</td>\n",
       "      <td>3.576609</td>\n",
       "      <td>-1.538929</td>\n",
       "      <td>-0.039342</td>\n",
       "      <td>-2.613114</td>\n",
       "      <td>-3.117484</td>\n",
       "      <td>-2.125028</td>\n",
       "      <td>0.143158</td>\n",
       "      <td>-8.249535</td>\n",
       "    </tr>\n",
       "  </tbody>\n",
       "</table>\n",
       "<p>5 rows × 100 columns</p>\n",
       "</div>"
      ],
      "text/plain": [
       "         0         1         2         3         4         5         6   \\\n",
       "0       NaN -0.176595 -4.126644 -2.390884 -1.366659 -0.460177  1.521421   \n",
       "1  0.267386       NaN -1.820798  1.540020  1.656770  0.447912  6.484100   \n",
       "2  2.946515 -1.594067       NaN  0.403844 -1.733342  0.274193  2.960081   \n",
       "3 -4.581082 -0.001274  1.197022       NaN -0.416290 -1.941236  0.290991   \n",
       "4 -2.123360 -0.266587  1.781999 -0.039342       NaN  0.895856  3.756880   \n",
       "\n",
       "         7         8         9   ...        90        91        92        93  \\\n",
       "0  5.328470 -2.919639 -6.216557  ... -1.919015 -1.603442 -0.867395 -1.825951   \n",
       "1  2.356129 -1.129611  3.195601  ...  1.394421 -1.872976 -0.382098 -1.980864   \n",
       "2  0.326221  0.393324  0.229915  ... -0.290845 -0.076589 -4.660688 -1.652196   \n",
       "3  0.507716 -0.397205  4.399152  ...  1.046033 -4.498888  7.150844  0.722794   \n",
       "4 -4.583167  1.652762  7.673453  ...  1.371734  4.458045  3.576609 -1.538929   \n",
       "\n",
       "         94        95        96        97        98        99  \n",
       "0 -2.390884  4.107535  3.817897 -0.823303 -5.271267  2.353398  \n",
       "1  1.540020 -1.267888 -1.843256  1.105676 -0.344550 -6.653773  \n",
       "2  0.403844 -4.317565 -2.506476  3.422634 -0.272146 -3.345401  \n",
       "3 -2.944502 -0.081950  0.186089 -7.066950  2.488842 -2.770303  \n",
       "4 -0.039342 -2.613114 -3.117484 -2.125028  0.143158 -8.249535  \n",
       "\n",
       "[5 rows x 100 columns]"
      ]
     },
     "execution_count": 4,
     "metadata": {},
     "output_type": "execute_result"
    }
   ],
   "source": [
    "PATH_LABELS = os.path.join('datasets', 'labels_A2.csv')\n",
    "labels = pd.read_csv(PATH_LABELS, sep=',', header=None)\n",
    "PATH_DATA = os.path.join('datasets', 'data_A2.csv')\n",
    "data = pd.read_csv(PATH_DATA, sep=',', header=None)\n",
    "data.head()"
   ]
  },
  {
   "cell_type": "markdown",
   "id": "fixed-guarantee",
   "metadata": {},
   "source": [
    "### Imputation of Missing values"
   ]
  },
  {
   "cell_type": "code",
   "execution_count": 5,
   "id": "wireless-sunset",
   "metadata": {},
   "outputs": [
    {
     "data": {
      "text/html": [
       "<div>\n",
       "<style scoped>\n",
       "    .dataframe tbody tr th:only-of-type {\n",
       "        vertical-align: middle;\n",
       "    }\n",
       "\n",
       "    .dataframe tbody tr th {\n",
       "        vertical-align: top;\n",
       "    }\n",
       "\n",
       "    .dataframe thead th {\n",
       "        text-align: right;\n",
       "    }\n",
       "</style>\n",
       "<table border=\"1\" class=\"dataframe\">\n",
       "  <thead>\n",
       "    <tr style=\"text-align: right;\">\n",
       "      <th></th>\n",
       "      <th>0</th>\n",
       "      <th>1</th>\n",
       "      <th>2</th>\n",
       "      <th>3</th>\n",
       "      <th>4</th>\n",
       "      <th>5</th>\n",
       "      <th>6</th>\n",
       "      <th>7</th>\n",
       "      <th>8</th>\n",
       "      <th>9</th>\n",
       "      <th>...</th>\n",
       "      <th>90</th>\n",
       "      <th>91</th>\n",
       "      <th>92</th>\n",
       "      <th>93</th>\n",
       "      <th>94</th>\n",
       "      <th>95</th>\n",
       "      <th>96</th>\n",
       "      <th>97</th>\n",
       "      <th>98</th>\n",
       "      <th>99</th>\n",
       "    </tr>\n",
       "  </thead>\n",
       "  <tbody>\n",
       "    <tr>\n",
       "      <th>0</th>\n",
       "      <td>NaN</td>\n",
       "      <td>-0.176595</td>\n",
       "      <td>-4.126644</td>\n",
       "      <td>-2.390884</td>\n",
       "      <td>-1.366659</td>\n",
       "      <td>-0.460177</td>\n",
       "      <td>1.521421</td>\n",
       "      <td>5.328470</td>\n",
       "      <td>-2.919639</td>\n",
       "      <td>-6.216557</td>\n",
       "      <td>...</td>\n",
       "      <td>-1.919015</td>\n",
       "      <td>-1.603442</td>\n",
       "      <td>-0.867395</td>\n",
       "      <td>-1.825951</td>\n",
       "      <td>-2.390884</td>\n",
       "      <td>4.107535</td>\n",
       "      <td>3.817897</td>\n",
       "      <td>-0.823303</td>\n",
       "      <td>-5.271267</td>\n",
       "      <td>2.353398</td>\n",
       "    </tr>\n",
       "    <tr>\n",
       "      <th>1</th>\n",
       "      <td>0.267386</td>\n",
       "      <td>NaN</td>\n",
       "      <td>-1.820798</td>\n",
       "      <td>1.540020</td>\n",
       "      <td>1.656770</td>\n",
       "      <td>0.447912</td>\n",
       "      <td>6.484100</td>\n",
       "      <td>2.356129</td>\n",
       "      <td>-1.129611</td>\n",
       "      <td>3.195601</td>\n",
       "      <td>...</td>\n",
       "      <td>1.394421</td>\n",
       "      <td>-1.872976</td>\n",
       "      <td>-0.382098</td>\n",
       "      <td>-1.980864</td>\n",
       "      <td>1.540020</td>\n",
       "      <td>-1.267888</td>\n",
       "      <td>-1.843256</td>\n",
       "      <td>1.105676</td>\n",
       "      <td>-0.344550</td>\n",
       "      <td>-6.653773</td>\n",
       "    </tr>\n",
       "    <tr>\n",
       "      <th>2</th>\n",
       "      <td>2.946515</td>\n",
       "      <td>-1.594067</td>\n",
       "      <td>NaN</td>\n",
       "      <td>0.403844</td>\n",
       "      <td>-1.733342</td>\n",
       "      <td>0.274193</td>\n",
       "      <td>2.960081</td>\n",
       "      <td>0.326221</td>\n",
       "      <td>0.393324</td>\n",
       "      <td>0.229915</td>\n",
       "      <td>...</td>\n",
       "      <td>-0.290845</td>\n",
       "      <td>-0.076589</td>\n",
       "      <td>-4.660688</td>\n",
       "      <td>-1.652196</td>\n",
       "      <td>0.403844</td>\n",
       "      <td>-4.317565</td>\n",
       "      <td>-2.506476</td>\n",
       "      <td>3.422634</td>\n",
       "      <td>-0.272146</td>\n",
       "      <td>-3.345401</td>\n",
       "    </tr>\n",
       "    <tr>\n",
       "      <th>3</th>\n",
       "      <td>-4.581082</td>\n",
       "      <td>-0.001274</td>\n",
       "      <td>1.197022</td>\n",
       "      <td>NaN</td>\n",
       "      <td>-0.416290</td>\n",
       "      <td>-1.941236</td>\n",
       "      <td>0.290991</td>\n",
       "      <td>0.507716</td>\n",
       "      <td>-0.397205</td>\n",
       "      <td>4.399152</td>\n",
       "      <td>...</td>\n",
       "      <td>1.046033</td>\n",
       "      <td>-4.498888</td>\n",
       "      <td>7.150844</td>\n",
       "      <td>0.722794</td>\n",
       "      <td>-2.944502</td>\n",
       "      <td>-0.081950</td>\n",
       "      <td>0.186089</td>\n",
       "      <td>-7.066950</td>\n",
       "      <td>2.488842</td>\n",
       "      <td>-2.770303</td>\n",
       "    </tr>\n",
       "    <tr>\n",
       "      <th>4</th>\n",
       "      <td>-2.123360</td>\n",
       "      <td>-0.266587</td>\n",
       "      <td>1.781999</td>\n",
       "      <td>-0.039342</td>\n",
       "      <td>NaN</td>\n",
       "      <td>0.895856</td>\n",
       "      <td>3.756880</td>\n",
       "      <td>-4.583167</td>\n",
       "      <td>1.652762</td>\n",
       "      <td>7.673453</td>\n",
       "      <td>...</td>\n",
       "      <td>1.371734</td>\n",
       "      <td>4.458045</td>\n",
       "      <td>3.576609</td>\n",
       "      <td>-1.538929</td>\n",
       "      <td>-0.039342</td>\n",
       "      <td>-2.613114</td>\n",
       "      <td>-3.117484</td>\n",
       "      <td>-2.125028</td>\n",
       "      <td>0.143158</td>\n",
       "      <td>-8.249535</td>\n",
       "    </tr>\n",
       "    <tr>\n",
       "      <th>...</th>\n",
       "      <td>...</td>\n",
       "      <td>...</td>\n",
       "      <td>...</td>\n",
       "      <td>...</td>\n",
       "      <td>...</td>\n",
       "      <td>...</td>\n",
       "      <td>...</td>\n",
       "      <td>...</td>\n",
       "      <td>...</td>\n",
       "      <td>...</td>\n",
       "      <td>...</td>\n",
       "      <td>...</td>\n",
       "      <td>...</td>\n",
       "      <td>...</td>\n",
       "      <td>...</td>\n",
       "      <td>...</td>\n",
       "      <td>...</td>\n",
       "      <td>...</td>\n",
       "      <td>...</td>\n",
       "      <td>...</td>\n",
       "      <td>...</td>\n",
       "    </tr>\n",
       "    <tr>\n",
       "      <th>995</th>\n",
       "      <td>0.318539</td>\n",
       "      <td>0.539550</td>\n",
       "      <td>-0.144831</td>\n",
       "      <td>1.402720</td>\n",
       "      <td>2.018928</td>\n",
       "      <td>-0.033435</td>\n",
       "      <td>-0.763604</td>\n",
       "      <td>-4.475018</td>\n",
       "      <td>1.098775</td>\n",
       "      <td>2.187650</td>\n",
       "      <td>...</td>\n",
       "      <td>1.163138</td>\n",
       "      <td>1.427695</td>\n",
       "      <td>0.753621</td>\n",
       "      <td>0.467884</td>\n",
       "      <td>1.402720</td>\n",
       "      <td>NaN</td>\n",
       "      <td>-2.008609</td>\n",
       "      <td>0.279494</td>\n",
       "      <td>4.702728</td>\n",
       "      <td>-2.272688</td>\n",
       "    </tr>\n",
       "    <tr>\n",
       "      <th>996</th>\n",
       "      <td>-5.843779</td>\n",
       "      <td>0.341371</td>\n",
       "      <td>-0.612153</td>\n",
       "      <td>-0.209380</td>\n",
       "      <td>-1.398469</td>\n",
       "      <td>0.550250</td>\n",
       "      <td>-1.623379</td>\n",
       "      <td>-0.924526</td>\n",
       "      <td>-2.274803</td>\n",
       "      <td>-3.090194</td>\n",
       "      <td>...</td>\n",
       "      <td>1.998539</td>\n",
       "      <td>-0.695267</td>\n",
       "      <td>1.238735</td>\n",
       "      <td>1.192938</td>\n",
       "      <td>-0.209380</td>\n",
       "      <td>-0.972033</td>\n",
       "      <td>NaN</td>\n",
       "      <td>-2.624541</td>\n",
       "      <td>0.013214</td>\n",
       "      <td>1.422758</td>\n",
       "    </tr>\n",
       "    <tr>\n",
       "      <th>997</th>\n",
       "      <td>3.406411</td>\n",
       "      <td>0.321762</td>\n",
       "      <td>0.286231</td>\n",
       "      <td>2.116516</td>\n",
       "      <td>-1.548059</td>\n",
       "      <td>-1.626494</td>\n",
       "      <td>3.787104</td>\n",
       "      <td>2.476920</td>\n",
       "      <td>-2.113878</td>\n",
       "      <td>-7.427621</td>\n",
       "      <td>...</td>\n",
       "      <td>-2.762413</td>\n",
       "      <td>-2.860776</td>\n",
       "      <td>-6.281361</td>\n",
       "      <td>-3.061634</td>\n",
       "      <td>2.116516</td>\n",
       "      <td>6.246774</td>\n",
       "      <td>-0.847790</td>\n",
       "      <td>NaN</td>\n",
       "      <td>-8.109827</td>\n",
       "      <td>2.108502</td>\n",
       "    </tr>\n",
       "    <tr>\n",
       "      <th>998</th>\n",
       "      <td>-2.167186</td>\n",
       "      <td>0.627939</td>\n",
       "      <td>-0.993588</td>\n",
       "      <td>0.902711</td>\n",
       "      <td>-1.024744</td>\n",
       "      <td>-0.416702</td>\n",
       "      <td>3.966772</td>\n",
       "      <td>6.068817</td>\n",
       "      <td>-2.394340</td>\n",
       "      <td>-1.352014</td>\n",
       "      <td>...</td>\n",
       "      <td>-0.981470</td>\n",
       "      <td>-2.427518</td>\n",
       "      <td>-0.065137</td>\n",
       "      <td>-1.653230</td>\n",
       "      <td>0.902711</td>\n",
       "      <td>1.644251</td>\n",
       "      <td>-0.421722</td>\n",
       "      <td>-3.231510</td>\n",
       "      <td>NaN</td>\n",
       "      <td>-1.626739</td>\n",
       "    </tr>\n",
       "    <tr>\n",
       "      <th>999</th>\n",
       "      <td>-3.621659</td>\n",
       "      <td>-1.628561</td>\n",
       "      <td>-1.991653</td>\n",
       "      <td>3.852027</td>\n",
       "      <td>1.636139</td>\n",
       "      <td>-0.283941</td>\n",
       "      <td>0.050966</td>\n",
       "      <td>-1.044173</td>\n",
       "      <td>-2.044518</td>\n",
       "      <td>-4.157472</td>\n",
       "      <td>...</td>\n",
       "      <td>0.518181</td>\n",
       "      <td>-0.485885</td>\n",
       "      <td>0.153331</td>\n",
       "      <td>-0.867391</td>\n",
       "      <td>3.852027</td>\n",
       "      <td>3.559970</td>\n",
       "      <td>0.754794</td>\n",
       "      <td>0.072521</td>\n",
       "      <td>-2.605920</td>\n",
       "      <td>NaN</td>\n",
       "    </tr>\n",
       "  </tbody>\n",
       "</table>\n",
       "<p>1000 rows × 100 columns</p>\n",
       "</div>"
      ],
      "text/plain": [
       "           0         1         2         3         4         5         6   \\\n",
       "0         NaN -0.176595 -4.126644 -2.390884 -1.366659 -0.460177  1.521421   \n",
       "1    0.267386       NaN -1.820798  1.540020  1.656770  0.447912  6.484100   \n",
       "2    2.946515 -1.594067       NaN  0.403844 -1.733342  0.274193  2.960081   \n",
       "3   -4.581082 -0.001274  1.197022       NaN -0.416290 -1.941236  0.290991   \n",
       "4   -2.123360 -0.266587  1.781999 -0.039342       NaN  0.895856  3.756880   \n",
       "..        ...       ...       ...       ...       ...       ...       ...   \n",
       "995  0.318539  0.539550 -0.144831  1.402720  2.018928 -0.033435 -0.763604   \n",
       "996 -5.843779  0.341371 -0.612153 -0.209380 -1.398469  0.550250 -1.623379   \n",
       "997  3.406411  0.321762  0.286231  2.116516 -1.548059 -1.626494  3.787104   \n",
       "998 -2.167186  0.627939 -0.993588  0.902711 -1.024744 -0.416702  3.966772   \n",
       "999 -3.621659 -1.628561 -1.991653  3.852027  1.636139 -0.283941  0.050966   \n",
       "\n",
       "           7         8         9   ...        90        91        92  \\\n",
       "0    5.328470 -2.919639 -6.216557  ... -1.919015 -1.603442 -0.867395   \n",
       "1    2.356129 -1.129611  3.195601  ...  1.394421 -1.872976 -0.382098   \n",
       "2    0.326221  0.393324  0.229915  ... -0.290845 -0.076589 -4.660688   \n",
       "3    0.507716 -0.397205  4.399152  ...  1.046033 -4.498888  7.150844   \n",
       "4   -4.583167  1.652762  7.673453  ...  1.371734  4.458045  3.576609   \n",
       "..        ...       ...       ...  ...       ...       ...       ...   \n",
       "995 -4.475018  1.098775  2.187650  ...  1.163138  1.427695  0.753621   \n",
       "996 -0.924526 -2.274803 -3.090194  ...  1.998539 -0.695267  1.238735   \n",
       "997  2.476920 -2.113878 -7.427621  ... -2.762413 -2.860776 -6.281361   \n",
       "998  6.068817 -2.394340 -1.352014  ... -0.981470 -2.427518 -0.065137   \n",
       "999 -1.044173 -2.044518 -4.157472  ...  0.518181 -0.485885  0.153331   \n",
       "\n",
       "           93        94        95        96        97        98        99  \n",
       "0   -1.825951 -2.390884  4.107535  3.817897 -0.823303 -5.271267  2.353398  \n",
       "1   -1.980864  1.540020 -1.267888 -1.843256  1.105676 -0.344550 -6.653773  \n",
       "2   -1.652196  0.403844 -4.317565 -2.506476  3.422634 -0.272146 -3.345401  \n",
       "3    0.722794 -2.944502 -0.081950  0.186089 -7.066950  2.488842 -2.770303  \n",
       "4   -1.538929 -0.039342 -2.613114 -3.117484 -2.125028  0.143158 -8.249535  \n",
       "..        ...       ...       ...       ...       ...       ...       ...  \n",
       "995  0.467884  1.402720       NaN -2.008609  0.279494  4.702728 -2.272688  \n",
       "996  1.192938 -0.209380 -0.972033       NaN -2.624541  0.013214  1.422758  \n",
       "997 -3.061634  2.116516  6.246774 -0.847790       NaN -8.109827  2.108502  \n",
       "998 -1.653230  0.902711  1.644251 -0.421722 -3.231510       NaN -1.626739  \n",
       "999 -0.867391  3.852027  3.559970  0.754794  0.072521 -2.605920       NaN  \n",
       "\n",
       "[1000 rows x 100 columns]"
      ]
     },
     "execution_count": 5,
     "metadata": {},
     "output_type": "execute_result"
    }
   ],
   "source": [
    "is_NaN = data.isnull()\n",
    "data[is_NaN.any(axis=1)]"
   ]
  },
  {
   "cell_type": "code",
   "execution_count": 6,
   "id": "monetary-color",
   "metadata": {},
   "outputs": [],
   "source": [
    "from sklearn.impute import SimpleImputer"
   ]
  },
  {
   "cell_type": "code",
   "execution_count": 7,
   "id": "amateur-vehicle",
   "metadata": {},
   "outputs": [
    {
     "data": {
      "text/html": [
       "<div>\n",
       "<style scoped>\n",
       "    .dataframe tbody tr th:only-of-type {\n",
       "        vertical-align: middle;\n",
       "    }\n",
       "\n",
       "    .dataframe tbody tr th {\n",
       "        vertical-align: top;\n",
       "    }\n",
       "\n",
       "    .dataframe thead th {\n",
       "        text-align: right;\n",
       "    }\n",
       "</style>\n",
       "<table border=\"1\" class=\"dataframe\">\n",
       "  <thead>\n",
       "    <tr style=\"text-align: right;\">\n",
       "      <th></th>\n",
       "      <th>0</th>\n",
       "      <th>1</th>\n",
       "      <th>2</th>\n",
       "      <th>3</th>\n",
       "      <th>4</th>\n",
       "      <th>5</th>\n",
       "      <th>6</th>\n",
       "      <th>7</th>\n",
       "      <th>8</th>\n",
       "      <th>9</th>\n",
       "      <th>...</th>\n",
       "      <th>90</th>\n",
       "      <th>91</th>\n",
       "      <th>92</th>\n",
       "      <th>93</th>\n",
       "      <th>94</th>\n",
       "      <th>95</th>\n",
       "      <th>96</th>\n",
       "      <th>97</th>\n",
       "      <th>98</th>\n",
       "      <th>99</th>\n",
       "    </tr>\n",
       "  </thead>\n",
       "  <tbody>\n",
       "    <tr>\n",
       "      <th>0</th>\n",
       "      <td>-0.036409</td>\n",
       "      <td>-0.176595</td>\n",
       "      <td>-4.126644</td>\n",
       "      <td>-2.390884</td>\n",
       "      <td>-1.366659</td>\n",
       "      <td>-0.460177</td>\n",
       "      <td>1.521421</td>\n",
       "      <td>5.328470</td>\n",
       "      <td>-2.919639</td>\n",
       "      <td>-6.216557</td>\n",
       "      <td>...</td>\n",
       "      <td>-1.919015</td>\n",
       "      <td>-1.603442</td>\n",
       "      <td>-0.867395</td>\n",
       "      <td>-1.825951</td>\n",
       "      <td>-2.390884</td>\n",
       "      <td>4.107535</td>\n",
       "      <td>3.817897</td>\n",
       "      <td>-0.823303</td>\n",
       "      <td>-5.271267</td>\n",
       "      <td>2.353398</td>\n",
       "    </tr>\n",
       "    <tr>\n",
       "      <th>1</th>\n",
       "      <td>0.267386</td>\n",
       "      <td>0.010517</td>\n",
       "      <td>-1.820798</td>\n",
       "      <td>1.540020</td>\n",
       "      <td>1.656770</td>\n",
       "      <td>0.447912</td>\n",
       "      <td>6.484100</td>\n",
       "      <td>2.356129</td>\n",
       "      <td>-1.129611</td>\n",
       "      <td>3.195601</td>\n",
       "      <td>...</td>\n",
       "      <td>1.394421</td>\n",
       "      <td>-1.872976</td>\n",
       "      <td>-0.382098</td>\n",
       "      <td>-1.980864</td>\n",
       "      <td>1.540020</td>\n",
       "      <td>-1.267888</td>\n",
       "      <td>-1.843256</td>\n",
       "      <td>1.105676</td>\n",
       "      <td>-0.344550</td>\n",
       "      <td>-6.653773</td>\n",
       "    </tr>\n",
       "    <tr>\n",
       "      <th>2</th>\n",
       "      <td>2.946515</td>\n",
       "      <td>-1.594067</td>\n",
       "      <td>0.539400</td>\n",
       "      <td>0.403844</td>\n",
       "      <td>-1.733342</td>\n",
       "      <td>0.274193</td>\n",
       "      <td>2.960081</td>\n",
       "      <td>0.326221</td>\n",
       "      <td>0.393324</td>\n",
       "      <td>0.229915</td>\n",
       "      <td>...</td>\n",
       "      <td>-0.290845</td>\n",
       "      <td>-0.076589</td>\n",
       "      <td>-4.660688</td>\n",
       "      <td>-1.652196</td>\n",
       "      <td>0.403844</td>\n",
       "      <td>-4.317565</td>\n",
       "      <td>-2.506476</td>\n",
       "      <td>3.422634</td>\n",
       "      <td>-0.272146</td>\n",
       "      <td>-3.345401</td>\n",
       "    </tr>\n",
       "    <tr>\n",
       "      <th>3</th>\n",
       "      <td>-4.581082</td>\n",
       "      <td>-0.001274</td>\n",
       "      <td>1.197022</td>\n",
       "      <td>0.242458</td>\n",
       "      <td>-0.416290</td>\n",
       "      <td>-1.941236</td>\n",
       "      <td>0.290991</td>\n",
       "      <td>0.507716</td>\n",
       "      <td>-0.397205</td>\n",
       "      <td>4.399152</td>\n",
       "      <td>...</td>\n",
       "      <td>1.046033</td>\n",
       "      <td>-4.498888</td>\n",
       "      <td>7.150844</td>\n",
       "      <td>0.722794</td>\n",
       "      <td>-2.944502</td>\n",
       "      <td>-0.081950</td>\n",
       "      <td>0.186089</td>\n",
       "      <td>-7.066950</td>\n",
       "      <td>2.488842</td>\n",
       "      <td>-2.770303</td>\n",
       "    </tr>\n",
       "    <tr>\n",
       "      <th>4</th>\n",
       "      <td>-2.123360</td>\n",
       "      <td>-0.266587</td>\n",
       "      <td>1.781999</td>\n",
       "      <td>-0.039342</td>\n",
       "      <td>-0.075077</td>\n",
       "      <td>0.895856</td>\n",
       "      <td>3.756880</td>\n",
       "      <td>-4.583167</td>\n",
       "      <td>1.652762</td>\n",
       "      <td>7.673453</td>\n",
       "      <td>...</td>\n",
       "      <td>1.371734</td>\n",
       "      <td>4.458045</td>\n",
       "      <td>3.576609</td>\n",
       "      <td>-1.538929</td>\n",
       "      <td>-0.039342</td>\n",
       "      <td>-2.613114</td>\n",
       "      <td>-3.117484</td>\n",
       "      <td>-2.125028</td>\n",
       "      <td>0.143158</td>\n",
       "      <td>-8.249535</td>\n",
       "    </tr>\n",
       "  </tbody>\n",
       "</table>\n",
       "<p>5 rows × 100 columns</p>\n",
       "</div>"
      ],
      "text/plain": [
       "         0         1         2         3         4         5         6   \\\n",
       "0 -0.036409 -0.176595 -4.126644 -2.390884 -1.366659 -0.460177  1.521421   \n",
       "1  0.267386  0.010517 -1.820798  1.540020  1.656770  0.447912  6.484100   \n",
       "2  2.946515 -1.594067  0.539400  0.403844 -1.733342  0.274193  2.960081   \n",
       "3 -4.581082 -0.001274  1.197022  0.242458 -0.416290 -1.941236  0.290991   \n",
       "4 -2.123360 -0.266587  1.781999 -0.039342 -0.075077  0.895856  3.756880   \n",
       "\n",
       "         7         8         9   ...        90        91        92        93  \\\n",
       "0  5.328470 -2.919639 -6.216557  ... -1.919015 -1.603442 -0.867395 -1.825951   \n",
       "1  2.356129 -1.129611  3.195601  ...  1.394421 -1.872976 -0.382098 -1.980864   \n",
       "2  0.326221  0.393324  0.229915  ... -0.290845 -0.076589 -4.660688 -1.652196   \n",
       "3  0.507716 -0.397205  4.399152  ...  1.046033 -4.498888  7.150844  0.722794   \n",
       "4 -4.583167  1.652762  7.673453  ...  1.371734  4.458045  3.576609 -1.538929   \n",
       "\n",
       "         94        95        96        97        98        99  \n",
       "0 -2.390884  4.107535  3.817897 -0.823303 -5.271267  2.353398  \n",
       "1  1.540020 -1.267888 -1.843256  1.105676 -0.344550 -6.653773  \n",
       "2  0.403844 -4.317565 -2.506476  3.422634 -0.272146 -3.345401  \n",
       "3 -2.944502 -0.081950  0.186089 -7.066950  2.488842 -2.770303  \n",
       "4 -0.039342 -2.613114 -3.117484 -2.125028  0.143158 -8.249535  \n",
       "\n",
       "[5 rows x 100 columns]"
      ]
     },
     "execution_count": 7,
     "metadata": {},
     "output_type": "execute_result"
    }
   ],
   "source": [
    "# Fill with mean\n",
    "imputer = SimpleImputer(missing_values=np.nan, strategy='mean')\n",
    "imputer.fit(data)\n",
    "data = imputer.transform(data)\n",
    "data = pd.DataFrame(data)\n",
    "data.head()"
   ]
  },
  {
   "cell_type": "markdown",
   "id": "informal-switzerland",
   "metadata": {},
   "source": [
    "### Answers\n",
    "Looking at the data, it seems like there is a NaN value for each row, and this is systematic, as there is a diagnoal pattern which repeats for every 100 rows.  \n",
    "Therefore, a good solution is to use a measure of central tendency to estimate the value. The impact on the data is minimised as there are 100 features, and only 1 is missing for each row.\n",
    "It is not possible to ignore tuples with NaN values as there would be no data left if this approach was followed.\n",
    "There is no additional information available so it is not viable to fill in the missing values manually\n",
    "It is possible to use a global constant, however it is uncertain why the data is missing, and this would assume that each column represents the same value which is unknown."
   ]
  },
  {
   "cell_type": "markdown",
   "id": "seventh-field",
   "metadata": {},
   "source": [
    "## 2. Most Important Features"
   ]
  },
  {
   "cell_type": "code",
   "execution_count": 8,
   "id": "adjacent-toolbox",
   "metadata": {},
   "outputs": [],
   "source": [
    "from sklearn.feature_selection import SelectKBest, chi2"
   ]
  },
  {
   "cell_type": "code",
   "execution_count": 9,
   "id": "global-lease",
   "metadata": {},
   "outputs": [],
   "source": [
    "X_train, X_test, y_train, y_test = train_test_split(data, labels, test_size=0.2, random_state=RANDOM_STATE)"
   ]
  },
  {
   "cell_type": "markdown",
   "id": "italian-creek",
   "metadata": {},
   "source": [
    "### Original"
   ]
  },
  {
   "cell_type": "code",
   "execution_count": 10,
   "id": "likely-belief",
   "metadata": {},
   "outputs": [
    {
     "name": "stdout",
     "output_type": "stream",
     "text": [
      "Accuracy on training set: 99.88%\n",
      "\n",
      "Accuracy on test set: 70.50%\n",
      "\n"
     ]
    },
    {
     "name": "stderr",
     "output_type": "stream",
     "text": [
      "<ipython-input-10-6c726f7e29e4>:2: DataConversionWarning: A column-vector y was passed when a 1d array was expected. Please change the shape of y to (n_samples,), for example using ravel().\n",
      "  model1.fit(X_train, y_train)\n"
     ]
    }
   ],
   "source": [
    "model1 = RandomForestClassifier(n_estimators=20, max_depth=20, random_state=RANDOM_STATE)\n",
    "model1.fit(X_train, y_train)\n",
    "\n",
    "acc_train = model1.score(X_train, y_train)\n",
    "print('Accuracy on training set: {:2.2%}\\n'.format(acc_train))\n",
    "acc_test = model1.score(X_test, y_test)\n",
    "print('Accuracy on test set: {:2.2%}\\n'.format(acc_test))"
   ]
  },
  {
   "cell_type": "markdown",
   "id": "loaded-hawaii",
   "metadata": {},
   "source": [
    "### SelectKBest"
   ]
  },
  {
   "cell_type": "code",
   "execution_count": 11,
   "id": "twelve-tyler",
   "metadata": {},
   "outputs": [
    {
     "name": "stdout",
     "output_type": "stream",
     "text": [
      "(800, 100)\n"
     ]
    },
    {
     "name": "stderr",
     "output_type": "stream",
     "text": [
      "C:\\Users\\aiden\\.conda\\envs\\venv\\lib\\site-packages\\sklearn\\utils\\validation.py:63: DataConversionWarning: A column-vector y was passed when a 1d array was expected. Please change the shape of y to (n_samples, ), for example using ravel().\n",
      "  return f(*args, **kwargs)\n"
     ]
    },
    {
     "data": {
      "text/plain": [
       "(800, 10)"
      ]
     },
     "execution_count": 11,
     "metadata": {},
     "output_type": "execute_result"
    }
   ],
   "source": [
    "print(X_train.shape)\n",
    "transformer = SelectKBest(k=10).fit(X_train, y_train)\n",
    "X_train_new = transformer.transform(X_train)\n",
    "X_train_new.shape"
   ]
  },
  {
   "cell_type": "code",
   "execution_count": 12,
   "id": "necessary-behalf",
   "metadata": {},
   "outputs": [
    {
     "name": "stdout",
     "output_type": "stream",
     "text": [
      "Accuracy on training set: 99.62%\n",
      "\n",
      "Accuracy on test set: 65.50%\n",
      "\n"
     ]
    },
    {
     "name": "stderr",
     "output_type": "stream",
     "text": [
      "<ipython-input-12-b5e017b4c29f>:2: DataConversionWarning: A column-vector y was passed when a 1d array was expected. Please change the shape of y to (n_samples,), for example using ravel().\n",
      "  model2.fit(X_train_new, y_train)\n"
     ]
    }
   ],
   "source": [
    "model2 = RandomForestClassifier(n_estimators=20, max_depth=20, random_state=RANDOM_STATE)\n",
    "model2.fit(X_train_new, y_train)\n",
    "\n",
    "X_test_new = transformer.transform(X_test)\n",
    "\n",
    "acc_train = model2.score(X_train_new, y_train)\n",
    "print('Accuracy on training set: {:2.2%}\\n'.format(acc_train))\n",
    "acc_test = model2.score(X_test_new, y_test)\n",
    "print('Accuracy on test set: {:2.2%}\\n'.format(acc_test))"
   ]
  },
  {
   "cell_type": "code",
   "execution_count": 13,
   "id": "hairy-convertible",
   "metadata": {},
   "outputs": [
    {
     "data": {
      "text/html": [
       "<div>\n",
       "<style scoped>\n",
       "    .dataframe tbody tr th:only-of-type {\n",
       "        vertical-align: middle;\n",
       "    }\n",
       "\n",
       "    .dataframe tbody tr th {\n",
       "        vertical-align: top;\n",
       "    }\n",
       "\n",
       "    .dataframe thead th {\n",
       "        text-align: right;\n",
       "    }\n",
       "</style>\n",
       "<table border=\"1\" class=\"dataframe\">\n",
       "  <thead>\n",
       "    <tr style=\"text-align: right;\">\n",
       "      <th></th>\n",
       "      <th>0</th>\n",
       "      <th>1</th>\n",
       "      <th>2</th>\n",
       "      <th>3</th>\n",
       "      <th>4</th>\n",
       "      <th>5</th>\n",
       "      <th>6</th>\n",
       "      <th>7</th>\n",
       "      <th>8</th>\n",
       "      <th>9</th>\n",
       "    </tr>\n",
       "  </thead>\n",
       "  <tbody>\n",
       "    <tr>\n",
       "      <th>0</th>\n",
       "      <td>-0.036409</td>\n",
       "      <td>-2.919639</td>\n",
       "      <td>-0.207606</td>\n",
       "      <td>-0.823303</td>\n",
       "      <td>-1.136033</td>\n",
       "      <td>-0.207606</td>\n",
       "      <td>-0.215309</td>\n",
       "      <td>-0.722900</td>\n",
       "      <td>-0.867395</td>\n",
       "      <td>-0.823303</td>\n",
       "    </tr>\n",
       "    <tr>\n",
       "      <th>1</th>\n",
       "      <td>0.267386</td>\n",
       "      <td>-1.129611</td>\n",
       "      <td>-0.768070</td>\n",
       "      <td>1.105676</td>\n",
       "      <td>0.267386</td>\n",
       "      <td>-0.768070</td>\n",
       "      <td>-2.245505</td>\n",
       "      <td>2.492973</td>\n",
       "      <td>-0.382098</td>\n",
       "      <td>1.105676</td>\n",
       "    </tr>\n",
       "    <tr>\n",
       "      <th>2</th>\n",
       "      <td>2.946515</td>\n",
       "      <td>0.393324</td>\n",
       "      <td>0.810932</td>\n",
       "      <td>3.422634</td>\n",
       "      <td>2.946515</td>\n",
       "      <td>0.810932</td>\n",
       "      <td>-3.416490</td>\n",
       "      <td>-0.247858</td>\n",
       "      <td>-4.660688</td>\n",
       "      <td>3.422634</td>\n",
       "    </tr>\n",
       "    <tr>\n",
       "      <th>3</th>\n",
       "      <td>-4.581082</td>\n",
       "      <td>-0.397205</td>\n",
       "      <td>2.465279</td>\n",
       "      <td>-7.066950</td>\n",
       "      <td>-4.581082</td>\n",
       "      <td>2.465279</td>\n",
       "      <td>1.198258</td>\n",
       "      <td>-1.338379</td>\n",
       "      <td>7.150844</td>\n",
       "      <td>-7.066950</td>\n",
       "    </tr>\n",
       "    <tr>\n",
       "      <th>4</th>\n",
       "      <td>-2.123360</td>\n",
       "      <td>1.652762</td>\n",
       "      <td>-0.643204</td>\n",
       "      <td>-2.125028</td>\n",
       "      <td>-2.123360</td>\n",
       "      <td>-0.643204</td>\n",
       "      <td>-1.122903</td>\n",
       "      <td>3.575898</td>\n",
       "      <td>3.576609</td>\n",
       "      <td>-2.125028</td>\n",
       "    </tr>\n",
       "  </tbody>\n",
       "</table>\n",
       "</div>"
      ],
      "text/plain": [
       "          0         1         2         3         4         5         6  \\\n",
       "0 -0.036409 -2.919639 -0.207606 -0.823303 -1.136033 -0.207606 -0.215309   \n",
       "1  0.267386 -1.129611 -0.768070  1.105676  0.267386 -0.768070 -2.245505   \n",
       "2  2.946515  0.393324  0.810932  3.422634  2.946515  0.810932 -3.416490   \n",
       "3 -4.581082 -0.397205  2.465279 -7.066950 -4.581082  2.465279  1.198258   \n",
       "4 -2.123360  1.652762 -0.643204 -2.125028 -2.123360 -0.643204 -1.122903   \n",
       "\n",
       "          7         8         9  \n",
       "0 -0.722900 -0.867395 -0.823303  \n",
       "1  2.492973 -0.382098  1.105676  \n",
       "2 -0.247858 -4.660688  3.422634  \n",
       "3 -1.338379  7.150844 -7.066950  \n",
       "4  3.575898  3.576609 -2.125028  "
      ]
     },
     "execution_count": 13,
     "metadata": {},
     "output_type": "execute_result"
    }
   ],
   "source": [
    "# Get our new transformed data\n",
    "data = transformer.transform(data)\n",
    "data = pd.DataFrame(data)\n",
    "data.head()"
   ]
  },
  {
   "cell_type": "markdown",
   "id": "popular-lesson",
   "metadata": {},
   "source": [
    "### Answers\n",
    "SelectKBest selects features according to the k highest scores. The default selector is f_classif, which computes the ANOVA F-value for the data provided. chi2 is not feasible as it requires non-negative features. However, ANOVA f-values are a standard way of selecting features.\n",
    "\n",
    "Compared to the original dataset, 4.5% accuracy was lost on the test set for a 90% reduction in features. The accuracy on the training set is very similar with just a 0.16% reduction."
   ]
  },
  {
   "cell_type": "markdown",
   "id": "popular-wholesale",
   "metadata": {},
   "source": [
    "## 3. Get Results for RandomForest, Pruned DecisionTree, Unpruned DecisionTree, and Decision Stumps"
   ]
  },
  {
   "cell_type": "code",
   "execution_count": 14,
   "id": "speaking-arrow",
   "metadata": {},
   "outputs": [],
   "source": [
    "X_train, X_test, y_train, y_test = train_test_split(data, labels, test_size=0.2, random_state=RANDOM_STATE)"
   ]
  },
  {
   "cell_type": "markdown",
   "id": "exposed-stranger",
   "metadata": {},
   "source": [
    "### RandomForest"
   ]
  },
  {
   "cell_type": "code",
   "execution_count": 15,
   "id": "premium-texture",
   "metadata": {},
   "outputs": [],
   "source": [
    "def createRandomForestModel(X_train, y_train, RANDOM_STATE):\n",
    "    RF = RandomForestClassifier(n_estimators=20, max_depth=20, random_state=RANDOM_STATE)\n",
    "    RF.fit(X_train, y_train)\n",
    "    return RF"
   ]
  },
  {
   "cell_type": "markdown",
   "id": "african-princeton",
   "metadata": {},
   "source": [
    "### Pruned DecisionTree\n",
    "Will use min_samples_split to prune tree.\n",
    "To find the best min_samples_split value to use, find the best average cross validation score."
   ]
  },
  {
   "cell_type": "code",
   "execution_count": 16,
   "id": "administrative-stupid",
   "metadata": {},
   "outputs": [],
   "source": [
    "def createPrunedDecisionTreeModel(X_train, y_train, RANDOM_STATE):\n",
    "    best_split_size = 0\n",
    "    best_score = 0\n",
    "    for split_size in range(10,100):\n",
    "        PDT = DecisionTreeClassifier(random_state=RANDOM_STATE, min_samples_split=split_size)\n",
    "        PDT.fit(X_train, y_train)\n",
    "        score = np.average(cross_val_score(PDT, X_train, y_train, cv=10))\n",
    "        if score > best_score:\n",
    "            best_score = score\n",
    "            best_split_size = split_size\n",
    "    # Train model\n",
    "    PDT = DecisionTreeClassifier(random_state=RANDOM_STATE, min_samples_split=best_split_size)\n",
    "    PDT.fit(X_train, y_train)\n",
    "    return PDT"
   ]
  },
  {
   "cell_type": "markdown",
   "id": "female-platinum",
   "metadata": {},
   "source": [
    "### Unpruned DecisionTree"
   ]
  },
  {
   "cell_type": "code",
   "execution_count": 17,
   "id": "variable-mining",
   "metadata": {},
   "outputs": [],
   "source": [
    "def createUnprunedDecisionTreeModel(X_train, y_train, RANDOM_STATE):\n",
    "    UDT = DecisionTreeClassifier(random_state=RANDOM_STATE)\n",
    "    UDT.fit(X_train, y_train)\n",
    "    return UDT"
   ]
  },
  {
   "cell_type": "markdown",
   "id": "preceding-enzyme",
   "metadata": {},
   "source": [
    "### Decision Stump"
   ]
  },
  {
   "cell_type": "code",
   "execution_count": 18,
   "id": "french-quantum",
   "metadata": {},
   "outputs": [],
   "source": [
    "def createDecisionStumpModel(X_train, y_train, RANDOM_STATE):\n",
    "    DS = DecisionTreeClassifier(random_state=RANDOM_STATE, max_depth=1)\n",
    "    DS.fit(X_train, y_train)\n",
    "    return DS"
   ]
  },
  {
   "cell_type": "markdown",
   "id": "promotional-tourist",
   "metadata": {},
   "source": [
    "### Comparing Models"
   ]
  },
  {
   "cell_type": "code",
   "execution_count": 19,
   "id": "present-profit",
   "metadata": {},
   "outputs": [],
   "source": [
    "from sklearn.model_selection import RepeatedKFold"
   ]
  },
  {
   "cell_type": "code",
   "execution_count": 20,
   "id": "ideal-positive",
   "metadata": {},
   "outputs": [],
   "source": [
    "def compare_models(X_train, X_test, y_train, y_test):\n",
    "    rkf = RepeatedKFold(random_state=RANDOM_STATE, n_splits=10, n_repeats=10)\n",
    "    y_train = y_train.values.ravel()\n",
    "    \n",
    "    RF = createRandomForestModel(X_train, y_train, RANDOM_STATE)\n",
    "    PDT = createPrunedDecisionTreeModel(X_train, y_train, RANDOM_STATE)\n",
    "    UDT = createUnprunedDecisionTreeModel(X_train, y_train, RANDOM_STATE)\n",
    "    DS = createDecisionStumpModel(X_train,y_train, RANDOM_STATE)\n",
    "    \n",
    "    df = pd.DataFrame()\n",
    "    df['RandomForest'] = cross_val_score(RF, X_train, y_train, cv=rkf)\n",
    "    df['Pruned DecisionTree'] = cross_val_score(PDT, X_train, y_train, cv=rkf)\n",
    "    df['Unpruned DecisionTree'] = cross_val_score(UDT, X_train, y_train, cv=rkf)\n",
    "    df['Decision Stump'] = cross_val_score(DS, X_train, y_train, cv=rkf)\n",
    "    # Show results\n",
    "    result = autorank(df, verbose=False)\n",
    "    print(result)\n",
    "    create_report(result)\n",
    "    plot_stats(result)\n",
    "    printTestScores(RF, PDT, UDT, DS, X_test, y_test)\n",
    "    return df\n",
    "def printTestScores(RF, PDT, UDT, DS, X_test, y_test):\n",
    "    print(\"\\n\")\n",
    "    scores = RF.score(X_test, y_test)\n",
    "    print('RandomForest acc on test set:     {:.2f}'.format(scores))\n",
    "    scores = PDT.score(X_test, y_test)\n",
    "    print('Pruned DecisionTree acc on test set:     {:.2f}'.format(scores))\n",
    "    scores = UDT.score(X_test, y_test)\n",
    "    print('Unpruned DecisionTree acc on test set:     {:.2f}'.format(scores))\n",
    "    scores = DS.score(X_test, y_test)\n",
    "    print('Decision Stump acc on test set:     {:.2f}'.format(scores))"
   ]
  },
  {
   "cell_type": "code",
   "execution_count": 21,
   "id": "numerous-enzyme",
   "metadata": {},
   "outputs": [
    {
     "name": "stdout",
     "output_type": "stream",
     "text": [
      "RankResult(rankdf=\n",
      "                       meanrank      mean       std  ci_lower  ci_upper  \\\n",
      "RandomForest              1.515  0.669875  0.048983  0.657413  0.682337   \n",
      "Pruned DecisionTree       1.955  0.648125  0.055002  0.634132  0.662118   \n",
      "Unpruned DecisionTree     2.845  0.605875  0.057088  0.591351  0.620399   \n",
      "Decision Stump            3.685  0.559500  0.043957  0.548317  0.570683   \n",
      "\n",
      "                      effect_size   magnitude  \n",
      "RandomForest                  0.0  negligible  \n",
      "Pruned DecisionTree      0.417634       small  \n",
      "Unpruned DecisionTree    1.203239       large  \n",
      "Decision Stump           2.371741       large  \n",
      "pvalue=2.6665159015190102e-37\n",
      "cd=0.46903593329832804\n",
      "omnibus=friedman\n",
      "posthoc=nemenyi\n",
      "all_normal=True\n",
      "pvals_shapiro=[0.22651080787181854, 0.029995987191796303, 0.17797085642814636, 0.14355461299419403]\n",
      "homoscedastic=False\n",
      "pval_homogeneity=0.04445466146540819\n",
      "homogeneity_test=bartlett\n",
      "alpha=0.05\n",
      "alpha_normality=0.0125\n",
      "num_samples=100\n",
      "posterior_matrix=\n",
      "None\n",
      "decision_matrix=\n",
      "None\n",
      "rope=None\n",
      "rope_mode=None\n",
      "effect_size=cohen_d)\n",
      "The statistical analysis was conducted for 4 populations with 100 paired samples.\n",
      "The family-wise significance level of the tests is alpha=0.050.\n",
      "We failed to reject the null hypothesis that the population is normal for all populations (minimal observed p-value=0.030). Therefore, we assume that all populations are normal.\n",
      "We applied Bartlett's test for homogeneity and reject the null hypothesis (p=0.044) that thedata is homoscedastic. Thus, we assume that our data is heteroscedastic.\n",
      "Because we have more than two populations and the populations are normal but heteroscedastic, we use the non-parametric Friedman test as omnibus test to determine if there are any significant differences between the mean values of the populations. We use the post-hoc Nemenyi test to infer which differences are significant. We report the mean value (M), the standard deviation (SD) and the mean rank (MR) among all populations over the samples. Differences between populations are significant, if the difference of the mean rank is greater than the critical distance CD=0.469 of the Nemenyi test.\n",
      "We reject the null hypothesis (p=0.000) of the Friedman test that there is no difference in the central tendency of the populations RandomForest (M=0.670+-0.012, SD=0.049, MR=1.515), Pruned DecisionTree (M=0.648+-0.014, SD=0.055, MR=1.955), Unpruned DecisionTree (M=0.606+-0.015, SD=0.057, MR=2.845), and Decision Stump (M=0.560+-0.011, SD=0.044, MR=3.685). Therefore, we assume that there is a statistically significant difference between the median values of the populations.\n",
      "Based on the post-hoc Nemenyi test, we assume that there are no significant differences within the following groups: RandomForest and Pruned DecisionTree. All other differences are significant.\n",
      "\n",
      "\n",
      "RandomForest acc on test set:     0.66\n",
      "Pruned DecisionTree acc on test set:     0.62\n",
      "Unpruned DecisionTree acc on test set:     0.59\n",
      "Decision Stump acc on test set:     0.65\n"
     ]
    },
    {
     "data": {
      "image/png": "[encoded data removed]",
      "text/plain": [
       "<Figure size 432x111.6 with 1 Axes>"
      ]
     },
     "metadata": {},
     "output_type": "display_data"
    }
   ],
   "source": [
    "results = compare_models(X_train, X_test, y_train, y_test)"
   ]
  },
  {
   "cell_type": "markdown",
   "id": "inside-costume",
   "metadata": {},
   "source": [
    "### Answers\n",
    "Based on cross validation scores, random forest and pruned decision tree are the best methods for the dataset, with unpruned decision tree and decision stump being significantly worse.  \n",
    "However, looking at the scores on the test data, it can be oserved that again random forest performed the best, however now decision stump performs relatively well. This may be due to random chance or the distribution of the test set. The unpruned decision tree performs the worst.\n",
    "\n",
    "Decision trees have an issue of being too simple to predict interactions, as they only have one branch to classify the data. This means that all 9 other features are not being considered when classifying. Unpruned decision trees both have the problem of overfitting, where the model has become effective on the training data but is not effective against test data (as shown) because the model is not generalisable."
   ]
  },
  {
   "cell_type": "markdown",
   "id": "gorgeous-given",
   "metadata": {},
   "source": [
    "## 4. 20% Normal Additive Noise"
   ]
  },
  {
   "cell_type": "code",
   "execution_count": 22,
   "id": "ordered-count",
   "metadata": {},
   "outputs": [
    {
     "name": "stdout",
     "output_type": "stream",
     "text": [
      "(1000, 10)\n"
     ]
    }
   ],
   "source": [
    "def additiveNoise(X):\n",
    "    noise = np.random.normal(0, 0.2, np.shape(X))\n",
    "    return X + np.multiply(noise, np.average(X, axis=0))\n",
    "X_noise = additiveNoise(data)\n",
    "print(X_noise.shape)"
   ]
  },
  {
   "cell_type": "markdown",
   "id": "unavailable-aquatic",
   "metadata": {},
   "source": [
    "### Comparing Models"
   ]
  },
  {
   "cell_type": "code",
   "execution_count": 23,
   "id": "exterior-athletics",
   "metadata": {},
   "outputs": [
    {
     "name": "stdout",
     "output_type": "stream",
     "text": [
      "RankResult(rankdf=\n",
      "                       meanrank      mean       std  ci_lower  ci_upper  \\\n",
      "RandomForest              1.480  0.670625  0.044713  0.659249  0.682001   \n",
      "Pruned DecisionTree       2.185  0.631625  0.056922  0.617143  0.646107   \n",
      "Unpruned DecisionTree     2.765  0.606000  0.059525  0.590856  0.621144   \n",
      "Decision Stump            3.570  0.563125  0.045587  0.551527  0.574723   \n",
      "\n",
      "                      effect_size   magnitude  \n",
      "RandomForest                  0.0  negligible  \n",
      "Pruned DecisionTree      0.761974      medium  \n",
      "Unpruned DecisionTree     1.22762       large  \n",
      "Decision Stump           2.380821       large  \n",
      "pvalue=2.8504126955924703e-31\n",
      "cd=0.46903593329832804\n",
      "omnibus=friedman\n",
      "posthoc=nemenyi\n",
      "all_normal=True\n",
      "pvals_shapiro=[0.11639333516359329, 0.31419607996940613, 0.4203834533691406, 0.06104124337434769]\n",
      "homoscedastic=False\n",
      "pval_homogeneity=0.004931026413083032\n",
      "homogeneity_test=bartlett\n",
      "alpha=0.05\n",
      "alpha_normality=0.0125\n",
      "num_samples=100\n",
      "posterior_matrix=\n",
      "None\n",
      "decision_matrix=\n",
      "None\n",
      "rope=None\n",
      "rope_mode=None\n",
      "effect_size=cohen_d)\n",
      "The statistical analysis was conducted for 4 populations with 100 paired samples.\n",
      "The family-wise significance level of the tests is alpha=0.050.\n",
      "We failed to reject the null hypothesis that the population is normal for all populations (minimal observed p-value=0.061). Therefore, we assume that all populations are normal.\n",
      "We applied Bartlett's test for homogeneity and reject the null hypothesis (p=0.005) that thedata is homoscedastic. Thus, we assume that our data is heteroscedastic.\n",
      "Because we have more than two populations and the populations are normal but heteroscedastic, we use the non-parametric Friedman test as omnibus test to determine if there are any significant differences between the mean values of the populations. We use the post-hoc Nemenyi test to infer which differences are significant. We report the mean value (M), the standard deviation (SD) and the mean rank (MR) among all populations over the samples. Differences between populations are significant, if the difference of the mean rank is greater than the critical distance CD=0.469 of the Nemenyi test.\n",
      "We reject the null hypothesis (p=0.000) of the Friedman test that there is no difference in the central tendency of the populations RandomForest (M=0.671+-0.011, SD=0.045, MR=1.480), Pruned DecisionTree (M=0.632+-0.014, SD=0.057, MR=2.185), Unpruned DecisionTree (M=0.606+-0.015, SD=0.060, MR=2.765), and Decision Stump (M=0.563+-0.012, SD=0.046, MR=3.570). Therefore, we assume that there is a statistically significant difference between the median values of the populations.\n",
      "Based on the post-hoc Nemenyi test, we assume that all differences between the populations are significant.\n",
      "\n",
      "\n",
      "RandomForest acc on test set:     0.66\n",
      "Pruned DecisionTree acc on test set:     0.63\n",
      "Unpruned DecisionTree acc on test set:     0.60\n",
      "Decision Stump acc on test set:     0.65\n"
     ]
    },
    {
     "data": {
      "image/png": "[encoded data removed]",
      "text/plain": [
       "<Figure size 432x111.6 with 1 Axes>"
      ]
     },
     "metadata": {},
     "output_type": "display_data"
    }
   ],
   "source": [
    "X_train, X_test, y_train, y_test = train_test_split(X_noise, labels, test_size=0.2, random_state=RANDOM_STATE)\n",
    "additive_results = compare_models(X_train, X_test, y_train, y_test)"
   ]
  },
  {
   "cell_type": "code",
   "execution_count": 24,
   "id": "fitted-demand",
   "metadata": {},
   "outputs": [
    {
     "name": "stdout",
     "output_type": "stream",
     "text": [
      "RankResult(rankdf=\n",
      "                                      meanrank   median       mad ci_lower  \\\n",
      "RandomForest                            1.9875  0.67500  0.055597   0.6625   \n",
      "Additive Noise RandomForest             2.4600  0.67500       NaN      0.7   \n",
      "Pruned DecisionTree                     2.9125  0.63750  0.055598   0.6125   \n",
      "Additive Noise Pruned DecisionTree      3.8700  0.62500       NaN   0.6625   \n",
      "Unpruned DecisionTree                   3.9375  0.61250  0.055598   0.5875   \n",
      "Additive Noise Unpruned DecisionTree    5.0300  0.61250       NaN     0.65   \n",
      "Decision Stump                          5.1625  0.56250  0.037065     0.55   \n",
      "Additive Noise Decision Stump           6.6400  0.56875       NaN   0.5875   \n",
      "\n",
      "                                     ci_upper effect_size   magnitude  \n",
      "RandomForest                           0.6875         0.0  negligible  \n",
      "Additive Noise RandomForest               NaN         NaN       large  \n",
      "Pruned DecisionTree                    0.6625    0.674491      medium  \n",
      "Additive Noise Pruned DecisionTree        NaN         NaN       large  \n",
      "Unpruned DecisionTree                   0.625    1.124151       large  \n",
      "Additive Noise Unpruned DecisionTree      NaN         NaN       large  \n",
      "Decision Stump                          0.575    2.381013       large  \n",
      "Additive Noise Decision Stump             NaN         NaN       large  \n",
      "pvalue=5.8595848860454455e-99\n",
      "cd=0.7424061756735745\n",
      "omnibus=friedman\n",
      "posthoc=nemenyi\n",
      "all_normal=False\n",
      "pvals_shapiro=[0.05183825269341469, 0.040103424340486526, 0.18841427564620972, 0.00306536047719419, 1.0, 1.0, 1.0, 1.0]\n",
      "homoscedastic=False\n",
      "pval_homogeneity=nan\n",
      "homogeneity_test=levene\n",
      "alpha=0.05\n",
      "alpha_normality=0.00625\n",
      "num_samples=200\n",
      "posterior_matrix=\n",
      "None\n",
      "decision_matrix=\n",
      "None\n",
      "rope=None\n",
      "rope_mode=None\n",
      "effect_size=akinshin_gamma)\n",
      "The statistical analysis was conducted for 8 populations with 200 paired samples.\n",
      "The family-wise significance level of the tests is alpha=0.050.\n",
      "We rejected the null hypothesis that the population is normal for the population Additive Noise Pruned DecisionTree (p=0.003). Therefore, we assume that not all populations are normal.\n",
      "Because we have more than two populations and the populations and one of them is not normal, we use the non-parametric Friedman test as omnibus test to determine if there are any significant differences between the median values of the populations. We use the post-hoc Nemenyi test to infer which differences are significant. We report the median (MD), the median absolute deviation (MAD) and the mean rank (MR) among all populations over the samples. Differences between populations are significant, if the difference of the mean rank is greater than the critical distance CD=0.742 of the Nemenyi test.\n",
      "We reject the null hypothesis (p=0.000) of the Friedman test that there is no difference in the central tendency of the populations RandomForest (MD=0.675+-0.013, MAD=0.056, MR=1.988), Additive Noise RandomForest (MD=0.675+-nan, MAD=nan, MR=2.460), Pruned DecisionTree (MD=0.637+-0.025, MAD=0.056, MR=2.913), Additive Noise Pruned DecisionTree (MD=0.625+-nan, MAD=nan, MR=3.870), Unpruned DecisionTree (MD=0.613+-0.019, MAD=0.056, MR=3.938), Additive Noise Unpruned DecisionTree (MD=0.613+-nan, MAD=nan, MR=5.030), Decision Stump (MD=0.562+-0.012, MAD=0.037, MR=5.162), and Additive Noise Decision Stump (MD=0.569+-nan, MAD=nan, MR=6.640). Therefore, we assume that there is a statistically significant difference between the median values of the populations.\n",
      "Based on the post-hoc Nemenyi test, we assume that there are no significant differences within the following groups: RandomForest and Additive Noise RandomForest; Additive Noise RandomForest and Pruned DecisionTree; Additive Noise Pruned DecisionTree and Unpruned DecisionTree; Additive Noise Unpruned DecisionTree and Decision Stump. All other differences are significant.\n"
     ]
    },
    {
     "data": {
      "text/plain": [
       "<matplotlib.axes._axes.Axes at 0x23c116c1910>"
      ]
     },
     "execution_count": 24,
     "metadata": {},
     "output_type": "execute_result"
    },
    {
     "data": {
      "image/png": "[encoded data removed]",
      "text/plain": [
       "<Figure size 432x162 with 1 Axes>"
      ]
     },
     "metadata": {},
     "output_type": "display_data"
    }
   ],
   "source": [
    "for result in additive_results:\n",
    "    additive_results[\"Additive Noise \" + result] = additive_results[result]\n",
    "# Show results\n",
    "combined = pd.concat([results, additive_results])\n",
    "result = autorank(combined, verbose=False)\n",
    "print(result)\n",
    "create_report(result)\n",
    "plot_stats(result)"
   ]
  },
  {
   "cell_type": "markdown",
   "id": "quiet-charity",
   "metadata": {},
   "source": [
    "### Answers \n",
    "\n",
    "Something interesting that we observe is that all methods are now significantly different. The overall results though are similar to the test without noise as expected\n",
    "\n",
    "Comparing the results of additive noise to the base method, there are significant results for pruned decision dree, unpruned decision tree, and decision stump.\n",
    "The pruned decision tree is significantly worse. This could be caused by decision branches being worse generally as inputs are less predictive of the outputs.\n",
    "The unpruned decision tree is significantly better, this may be due to better generalisation, as the inputs are more generalised while the model stays the same, it has to deal with greater variation and unpredictability in the input space.\n",
    "The decision stump is significantly worse, this may be due to the same reason as for pruned decision tree."
   ]
  },
  {
   "cell_type": "markdown",
   "id": "technical-joshua",
   "metadata": {},
   "source": [
    "## 5. 20% Normal Multiplicative Noise"
   ]
  },
  {
   "cell_type": "code",
   "execution_count": 25,
   "id": "cosmetic-wrist",
   "metadata": {},
   "outputs": [],
   "source": [
    "def multiplicativeNoise(X):\n",
    "    noise = np.random.normal(1, 0.2, np.shape(X))\n",
    "    return X + np.multiply(noise, np.average(X, axis=0))\n",
    "X_noise = multiplicativeNoise(data)"
   ]
  },
  {
   "cell_type": "markdown",
   "id": "charitable-fleet",
   "metadata": {},
   "source": [
    "### Comparing Models"
   ]
  },
  {
   "cell_type": "code",
   "execution_count": 26,
   "id": "creative-tender",
   "metadata": {},
   "outputs": [
    {
     "name": "stdout",
     "output_type": "stream",
     "text": [
      "RankResult(rankdf=\n",
      "                       meanrank      mean       std  ci_lower  ci_upper  \\\n",
      "RandomForest              1.505  0.672750  0.052776   0.66352   0.68198   \n",
      "Pruned DecisionTree       2.215  0.636875  0.051810  0.627645  0.646105   \n",
      "Unpruned DecisionTree     2.680  0.613125  0.050639  0.603895  0.622355   \n",
      "Decision Stump            3.600  0.567875  0.046948  0.558645  0.577105   \n",
      "\n",
      "                      effect_size   magnitude  \n",
      "RandomForest                  0.0  negligible  \n",
      "Pruned DecisionTree      0.686011      medium  \n",
      "Unpruned DecisionTree    1.152876       large  \n",
      "Decision Stump           2.099731       large  \n",
      "pvalue=1.050672233975014e-45\n",
      "cd=None\n",
      "omnibus=anova\n",
      "posthoc=tukeyhsd\n",
      "all_normal=True\n",
      "pvals_shapiro=[0.6500450372695923, 0.8108065128326416, 0.11589078605175018, 0.2635815143585205]\n",
      "homoscedastic=True\n",
      "pval_homogeneity=0.6765510736858757\n",
      "homogeneity_test=bartlett\n",
      "alpha=0.05\n",
      "alpha_normality=0.0125\n",
      "num_samples=100\n",
      "posterior_matrix=\n",
      "None\n",
      "decision_matrix=\n",
      "None\n",
      "rope=None\n",
      "rope_mode=None\n",
      "effect_size=cohen_d)\n",
      "The statistical analysis was conducted for 4 populations with 100 paired samples.\n",
      "The family-wise significance level of the tests is alpha=0.050.\n",
      "We failed to reject the null hypothesis that the population is normal for all populations (minimal observed p-value=0.116). Therefore, we assume that all populations are normal.\n",
      "We applied Bartlett's test for homogeneity and failed to reject the null hypothesis (p=0.677) that the data is homoscedastic. Thus, we assume that our data is homoscedastic.\n",
      "Because we have more than two populations and all populations are normal and homoscedastic, we use repeated measures ANOVA as omnibus test to determine if there are any significant differences between the mean values of the populations. If the results of the ANOVA test are significant, we use the post-hoc Tukey HSD test to infer which differences are significant. We report the mean value (M) and the standard deviation (SD) for each population. Populations are significantly different if their confidence intervals are not overlapping.\n",
      "We reject the null hypothesis (p=0.000) of the repeated measures ANOVA that there is a difference between the mean values of the populations RandomForest (M=0.673+-0.009, SD=0.053), Pruned DecisionTree (M=0.637+-0.009, SD=0.052), Unpruned DecisionTree (M=0.613+-0.009, SD=0.051), and Decision Stump (M=0.568+-0.009, SD=0.047). Therefore, we assume that there is a statistically significant difference between the mean values of the populations.\n",
      "Based on post-hoc Tukey HSD test, we assume that all differences between the populations are significant.\n",
      "\n",
      "\n",
      "\n",
      "RandomForest acc on test set:     0.70\n",
      "Pruned DecisionTree acc on test set:     0.66\n",
      "Unpruned DecisionTree acc on test set:     0.57\n",
      "Decision Stump acc on test set:     0.65\n"
     ]
    },
    {
     "name": "stderr",
     "output_type": "stream",
     "text": [
      "C:\\Users\\aiden\\.conda\\envs\\venv\\lib\\site-packages\\statsmodels\\sandbox\\stats\\multicomp.py:775: UserWarning: FixedFormatter should only be used together with FixedLocator\n",
      "  ax1.set_yticklabels(np.insert(self.groupsunique.astype(str), 0, ''))\n"
     ]
    },
    {
     "data": {
      "image/png": "[encoded data removed]",
      "text/plain": [
       "<Figure size 432x288 with 1 Axes>"
      ]
     },
     "metadata": {},
     "output_type": "display_data"
    }
   ],
   "source": [
    "X_train, X_test, y_train, y_test = train_test_split(X_noise, labels, test_size=0.2, random_state=RANDOM_STATE)\n",
    "mult_results = compare_models(X_train, X_test, y_train, y_test)"
   ]
  },
  {
   "cell_type": "code",
   "execution_count": 27,
   "id": "owned-piece",
   "metadata": {},
   "outputs": [
    {
     "name": "stdout",
     "output_type": "stream",
     "text": [
      "RankResult(rankdf=\n",
      "                                  meanrank      mean       std  ci_lower  \\\n",
      "RandomForest                        2.0125  0.671312  0.050807  0.661383   \n",
      "Mult Noise RandomForest             2.5100  0.672750  0.052776  0.658164   \n",
      "Pruned DecisionTree                 2.9425  0.642500  0.053593  0.632026   \n",
      "Unpruned DecisionTree               3.8525  0.609500  0.053947  0.598957   \n",
      "Mult Noise Pruned DecisionTree      3.9300  0.636875  0.051810  0.622556   \n",
      "Mult Noise Unpruned DecisionTree    4.8600  0.613125  0.050639  0.599129   \n",
      "Decision Stump                      5.1925  0.563688  0.045556  0.554784   \n",
      "Mult Noise Decision Stump           6.7000  0.567875  0.046948    0.5549   \n",
      "\n",
      "                                  ci_upper effect_size   magnitude  \n",
      "RandomForest                      0.681242         0.0  negligible  \n",
      "Mult Noise RandomForest           0.687336   -0.027751  negligible  \n",
      "Pruned DecisionTree               0.652974     0.55177      medium  \n",
      "Unpruned DecisionTree             0.620043    1.179622       large  \n",
      "Mult Noise Pruned DecisionTree    0.651194    0.671154      medium  \n",
      "Mult Noise Unpruned DecisionTree  0.627121    1.147161       large  \n",
      "Decision Stump                    0.572591    2.230429       large  \n",
      "Mult Noise Decision Stump          0.58085    2.114621       large  \n",
      "pvalue=5.098541701144845e-99\n",
      "cd=0.7424061756735745\n",
      "omnibus=friedman\n",
      "posthoc=nemenyi\n",
      "all_normal=True\n",
      "pvals_shapiro=[0.1764264851808548, 0.13242673873901367, 0.035407669842243195, 0.015387743711471558, 1.0, 1.0, 1.0, 1.0]\n",
      "homoscedastic=False\n",
      "pval_homogeneity=nan\n",
      "homogeneity_test=bartlett\n",
      "alpha=0.05\n",
      "alpha_normality=0.00625\n",
      "num_samples=200\n",
      "posterior_matrix=\n",
      "None\n",
      "decision_matrix=\n",
      "None\n",
      "rope=None\n",
      "rope_mode=None\n",
      "effect_size=cohen_d)\n",
      "The statistical analysis was conducted for 8 populations with 200 paired samples.\n",
      "The family-wise significance level of the tests is alpha=0.050.\n",
      "We failed to reject the null hypothesis that the population is normal for all populations (minimal observed p-value=0.015). Therefore, we assume that all populations are normal.\n",
      "We applied Bartlett's test for homogeneity and reject the null hypothesis (p=nan) that thedata is homoscedastic. Thus, we assume that our data is heteroscedastic.\n",
      "Because we have more than two populations and the populations are normal but heteroscedastic, we use the non-parametric Friedman test as omnibus test to determine if there are any significant differences between the mean values of the populations. We use the post-hoc Nemenyi test to infer which differences are significant. We report the mean value (M), the standard deviation (SD) and the mean rank (MR) among all populations over the samples. Differences between populations are significant, if the difference of the mean rank is greater than the critical distance CD=0.742 of the Nemenyi test.\n",
      "We reject the null hypothesis (p=0.000) of the Friedman test that there is no difference in the central tendency of the populations RandomForest (M=0.671+-0.010, SD=0.051, MR=2.013), Mult Noise RandomForest (M=0.673+-0.015, SD=0.053, MR=2.510), Pruned DecisionTree (M=0.642+-0.010, SD=0.054, MR=2.942), Unpruned DecisionTree (M=0.610+-0.011, SD=0.054, MR=3.853), Mult Noise Pruned DecisionTree (M=0.637+-0.014, SD=0.052, MR=3.930), Mult Noise Unpruned DecisionTree (M=0.613+-0.014, SD=0.051, MR=4.860), Decision Stump (M=0.564+-0.009, SD=0.046, MR=5.192), and Mult Noise Decision Stump (M=0.568+-0.013, SD=0.047, MR=6.700). Therefore, we assume that there is a statistically significant difference between the median values of the populations.\n",
      "Based on the post-hoc Nemenyi test, we assume that there are no significant differences within the following groups: RandomForest and Mult Noise RandomForest; Mult Noise RandomForest and Pruned DecisionTree; Unpruned DecisionTree and Mult Noise Pruned DecisionTree; Mult Noise Unpruned DecisionTree and Decision Stump. All other differences are significant.\n"
     ]
    },
    {
     "data": {
      "text/plain": [
       "<matplotlib.axes._axes.Axes at 0x23c14749c10>"
      ]
     },
     "execution_count": 27,
     "metadata": {},
     "output_type": "execute_result"
    },
    {
     "data": {
      "image/png": "[encoded data removed]",
      "text/plain": [
       "<Figure size 432x162 with 1 Axes>"
      ]
     },
     "metadata": {},
     "output_type": "display_data"
    }
   ],
   "source": [
    "for result in mult_results:\n",
    "    mult_results[\"Mult Noise \" + result] = mult_results[result]\n",
    "# Show results\n",
    "combined = pd.concat([results, mult_results])\n",
    "result = autorank(combined, verbose=False)\n",
    "print(result)\n",
    "create_report(result)\n",
    "plot_stats(result)"
   ]
  },
  {
   "cell_type": "markdown",
   "id": "adaptive-window",
   "metadata": {},
   "source": [
    "### Answers\n",
    "Comparing the results of multiplicative noise to the base method, there are significant results for pruned decision dree, unpruned decision tree, and decision stump.\n",
    "The pruned decision tree is significantly worse. This could be caused by decision branches being worse generally as inputs are less predictive of the outputs.\n",
    "The unpruned decision tree is significantly better, this may be due to better generalisation, as the inputs are more generalised while the model stays the same, it has to deal with greater variation and unpredictability in the input space.\n",
    "The decision stump is significantly worse, this may be due to the same reason as for pruned decision tree.\n",
    "The results for additive and multiplicative noise are generally very similar. Looking at the data, this can be explained as most values are between -10 and 10, there is not a significant difference between multiplying noise and adding noise. If the input space spanned many magnitudes the difference may be more obvious."
   ]
  },
  {
   "cell_type": "markdown",
   "id": "buried-abuse",
   "metadata": {},
   "source": [
    "## 6. 5% Class Noise"
   ]
  },
  {
   "cell_type": "code",
   "execution_count": 28,
   "id": "excessive-integrity",
   "metadata": {},
   "outputs": [],
   "source": [
    "flip = labels.sample(frac=0.05)\n",
    "y_flip = labels.copy()\n",
    "for index, row in flip.iterrows():\n",
    "    y_flip.loc[index] = 0 if labels.loc[index][0] == 1 else 1"
   ]
  },
  {
   "cell_type": "markdown",
   "id": "sorted-intensity",
   "metadata": {},
   "source": [
    "### Comparing Models"
   ]
  },
  {
   "cell_type": "code",
   "execution_count": 29,
   "id": "smooth-zimbabwe",
   "metadata": {},
   "outputs": [
    {
     "name": "stdout",
     "output_type": "stream",
     "text": [
      "RankResult(rankdf=\n",
      "                       meanrank      mean       std  ci_lower  ci_upper  \\\n",
      "RandomForest              1.560  0.640125  0.051102  0.630883  0.649367   \n",
      "Pruned DecisionTree       2.115  0.610250  0.049536  0.601008  0.619492   \n",
      "Unpruned DecisionTree     2.660  0.587625  0.053845  0.578383  0.596867   \n",
      "Decision Stump            3.665  0.528375  0.047965  0.519133  0.537617   \n",
      "\n",
      "                      effect_size   magnitude  \n",
      "RandomForest                  0.0  negligible  \n",
      "Pruned DecisionTree      0.593638      medium  \n",
      "Unpruned DecisionTree    1.000163       large  \n",
      "Decision Stump           2.254911       large  \n",
      "pvalue=5.206889808089021e-52\n",
      "cd=None\n",
      "omnibus=anova\n",
      "posthoc=tukeyhsd\n",
      "all_normal=True\n",
      "pvals_shapiro=[0.7386086583137512, 0.49564671516418457, 0.7481617331504822, 0.13993220031261444]\n",
      "homoscedastic=True\n",
      "pval_homogeneity=0.6951154663490663\n",
      "homogeneity_test=bartlett\n",
      "alpha=0.05\n",
      "alpha_normality=0.0125\n",
      "num_samples=100\n",
      "posterior_matrix=\n",
      "None\n",
      "decision_matrix=\n",
      "None\n",
      "rope=None\n",
      "rope_mode=None\n",
      "effect_size=cohen_d)\n",
      "The statistical analysis was conducted for 4 populations with 100 paired samples.\n",
      "The family-wise significance level of the tests is alpha=0.050.\n",
      "We failed to reject the null hypothesis that the population is normal for all populations (minimal observed p-value=0.140). Therefore, we assume that all populations are normal.\n",
      "We applied Bartlett's test for homogeneity and failed to reject the null hypothesis (p=0.695) that the data is homoscedastic. Thus, we assume that our data is homoscedastic.\n",
      "Because we have more than two populations and all populations are normal and homoscedastic, we use repeated measures ANOVA as omnibus test to determine if there are any significant differences between the mean values of the populations. If the results of the ANOVA test are significant, we use the post-hoc Tukey HSD test to infer which differences are significant. We report the mean value (M) and the standard deviation (SD) for each population. Populations are significantly different if their confidence intervals are not overlapping.\n",
      "We reject the null hypothesis (p=0.000) of the repeated measures ANOVA that there is a difference between the mean values of the populations RandomForest (M=0.640+-0.009, SD=0.051), Pruned DecisionTree (M=0.610+-0.009, SD=0.050), Unpruned DecisionTree (M=0.588+-0.009, SD=0.054), and Decision Stump (M=0.528+-0.009, SD=0.048). Therefore, we assume that there is a statistically significant difference between the mean values of the populations.\n",
      "Based on post-hoc Tukey HSD test, we assume that all differences between the populations are significant.\n",
      "\n",
      "\n",
      "\n",
      "RandomForest acc on test set:     0.66\n",
      "Pruned DecisionTree acc on test set:     0.64\n",
      "Unpruned DecisionTree acc on test set:     0.67\n",
      "Decision Stump acc on test set:     0.52\n"
     ]
    },
    {
     "name": "stderr",
     "output_type": "stream",
     "text": [
      "C:\\Users\\aiden\\.conda\\envs\\venv\\lib\\site-packages\\statsmodels\\sandbox\\stats\\multicomp.py:775: UserWarning: FixedFormatter should only be used together with FixedLocator\n",
      "  ax1.set_yticklabels(np.insert(self.groupsunique.astype(str), 0, ''))\n"
     ]
    },
    {
     "data": {
      "image/png": "[encoded data removed]",
      "text/plain": [
       "<Figure size 432x288 with 1 Axes>"
      ]
     },
     "metadata": {},
     "output_type": "display_data"
    }
   ],
   "source": [
    "X_train, X_test, y_train, y_test = train_test_split(data, y_flip, test_size=0.2, random_state=RANDOM_STATE)\n",
    "class_results = compare_models(X_train, X_test, y_train, y_test)"
   ]
  },
  {
   "cell_type": "code",
   "execution_count": 30,
   "id": "representative-challenge",
   "metadata": {},
   "outputs": [
    {
     "name": "stdout",
     "output_type": "stream",
     "text": [
      "RankResult(rankdf=\n",
      "                                   meanrank      mean       std  ci_lower  \\\n",
      "RandomForest                         2.0675  0.655000  0.052107  0.644817   \n",
      "Class Noise RandomForest             2.6200  0.640125  0.051102  0.626002   \n",
      "Pruned DecisionTree                  2.8425  0.629188  0.055553  0.618331   \n",
      "Class Noise Pruned DecisionTree      3.7300  0.610250  0.049536  0.596559   \n",
      "Unpruned DecisionTree                3.8325  0.596750  0.056101  0.585786   \n",
      "Class Noise Unpruned DecisionTree    4.8200  0.587625  0.053845  0.572743   \n",
      "Decision Stump                       5.2575  0.543937  0.048469  0.534465   \n",
      "Class Noise Decision Stump           6.8300  0.528375  0.047965  0.515118   \n",
      "\n",
      "                                   ci_upper effect_size   magnitude  \n",
      "RandomForest                       0.665183         0.0  negligible  \n",
      "Class Noise RandomForest           0.654248    0.288237       small  \n",
      "Pruned DecisionTree                0.640044    0.479272       small  \n",
      "Class Noise Pruned DecisionTree    0.623941    0.880248       large  \n",
      "Unpruned DecisionTree              0.607714    1.075894       large  \n",
      "Class Noise Unpruned DecisionTree  0.602507    1.271631       large  \n",
      "Decision Stump                      0.55341    2.207093       large  \n",
      "Class Noise Decision Stump         0.541632    2.528504       large  \n",
      "pvalue=8.990838949581846e-100\n",
      "cd=0.7424061756735745\n",
      "omnibus=friedman\n",
      "posthoc=nemenyi\n",
      "all_normal=True\n",
      "pvals_shapiro=[0.1787509173154831, 0.03713660687208176, 0.2713836133480072, 0.059799641370773315, 1.0, 1.0, 1.0, 1.0]\n",
      "homoscedastic=False\n",
      "pval_homogeneity=nan\n",
      "homogeneity_test=bartlett\n",
      "alpha=0.05\n",
      "alpha_normality=0.00625\n",
      "num_samples=200\n",
      "posterior_matrix=\n",
      "None\n",
      "decision_matrix=\n",
      "None\n",
      "rope=None\n",
      "rope_mode=None\n",
      "effect_size=cohen_d)\n",
      "The statistical analysis was conducted for 8 populations with 200 paired samples.\n",
      "The family-wise significance level of the tests is alpha=0.050.\n",
      "We failed to reject the null hypothesis that the population is normal for all populations (minimal observed p-value=0.037). Therefore, we assume that all populations are normal.\n",
      "We applied Bartlett's test for homogeneity and reject the null hypothesis (p=nan) that thedata is homoscedastic. Thus, we assume that our data is heteroscedastic.\n",
      "Because we have more than two populations and the populations are normal but heteroscedastic, we use the non-parametric Friedman test as omnibus test to determine if there are any significant differences between the mean values of the populations. We use the post-hoc Nemenyi test to infer which differences are significant. We report the mean value (M), the standard deviation (SD) and the mean rank (MR) among all populations over the samples. Differences between populations are significant, if the difference of the mean rank is greater than the critical distance CD=0.742 of the Nemenyi test.\n",
      "We reject the null hypothesis (p=0.000) of the Friedman test that there is no difference in the central tendency of the populations RandomForest (M=0.655+-0.010, SD=0.052, MR=2.067), Class Noise RandomForest (M=0.640+-0.014, SD=0.051, MR=2.620), Pruned DecisionTree (M=0.629+-0.011, SD=0.056, MR=2.842), Class Noise Pruned DecisionTree (M=0.610+-0.014, SD=0.050, MR=3.730), Unpruned DecisionTree (M=0.597+-0.011, SD=0.056, MR=3.833), Class Noise Unpruned DecisionTree (M=0.588+-0.015, SD=0.054, MR=4.820), Decision Stump (M=0.544+-0.009, SD=0.048, MR=5.258), and Class Noise Decision Stump (M=0.528+-0.013, SD=0.048, MR=6.830). Therefore, we assume that there is a statistically significant difference between the median values of the populations.\n",
      "Based on the post-hoc Nemenyi test, we assume that there are no significant differences within the following groups: RandomForest and Class Noise RandomForest; Class Noise RandomForest and Pruned DecisionTree; Class Noise Pruned DecisionTree and Unpruned DecisionTree; Class Noise Unpruned DecisionTree and Decision Stump. All other differences are significant.\n"
     ]
    },
    {
     "data": {
      "text/plain": [
       "<matplotlib.axes._axes.Axes at 0x23c147eb3d0>"
      ]
     },
     "execution_count": 30,
     "metadata": {},
     "output_type": "execute_result"
    },
    {
     "data": {
      "image/png": "[encoded data removed]",
      "text/plain": [
       "<Figure size 432x162 with 1 Axes>"
      ]
     },
     "metadata": {},
     "output_type": "display_data"
    }
   ],
   "source": [
    "for result in class_results:\n",
    "    class_results[\"Class Noise \" + result] = class_results[result]\n",
    "# Show results\n",
    "combined = pd.concat([results, class_results])\n",
    "result = autorank(combined, verbose=False)\n",
    "print(result)\n",
    "create_report(result)\n",
    "plot_stats(result)"
   ]
  },
  {
   "cell_type": "markdown",
   "id": "secure-harbor",
   "metadata": {},
   "source": [
    "### Answers\n",
    "Decision stump performed worse on the test data by 12% compared to no noise.\n",
    "\n",
    "Comparing the results of class noise to the base method, there are significant results for pruned decision dree, unpruned decision tree, and decision stump.\n",
    "The pruned decision tree is significantly worse. This could be caused by decision branches being worse generally as inputs are less predictive of the outputs.\n",
    "The unpruned decision tree is significantly better, this may be due to better generalisation, as the inputs are more generalised while the model stays the same, it has to deal with greater variation and unpredictability in the input space.\n",
    "The decision stump is significantly worse, this may be due to the same reason as for pruned decision tree."
   ]
  },
  {
   "cell_type": "markdown",
   "id": "streaming-basket",
   "metadata": {},
   "source": [
    "## 7. Train and Test Split"
   ]
  },
  {
   "cell_type": "markdown",
   "id": "derived-breakdown",
   "metadata": {},
   "source": [
    "### Add noise to training set"
   ]
  },
  {
   "cell_type": "code",
   "execution_count": 31,
   "id": "liberal-distribution",
   "metadata": {},
   "outputs": [],
   "source": [
    "X_train, X_test, y_train, y_test = train_test_split(data, labels, test_size=0.2, random_state=RANDOM_STATE)\n",
    "# Add multiplicative noise\n",
    "X_noise = multiplicativeNoise(X_train)"
   ]
  },
  {
   "cell_type": "code",
   "execution_count": 32,
   "id": "optimum-train",
   "metadata": {},
   "outputs": [
    {
     "name": "stdout",
     "output_type": "stream",
     "text": [
      "RankResult(rankdf=\n",
      "                       meanrank      mean       std  ci_lower  ci_upper  \\\n",
      "RandomForest               1.33  0.668250  0.048702  0.659063  0.677437   \n",
      "Pruned DecisionTree        2.41  0.617875  0.049245  0.608688  0.627062   \n",
      "Unpruned DecisionTree      2.71  0.610250  0.057499  0.601063  0.619437   \n",
      "Decision Stump             3.55  0.560250  0.045170  0.551063  0.569437   \n",
      "\n",
      "                      effect_size   magnitude  \n",
      "RandomForest                  0.0  negligible  \n",
      "Pruned DecisionTree      1.028602       large  \n",
      "Unpruned DecisionTree    1.088539       large  \n",
      "Decision Stump            2.29937       large  \n",
      "pvalue=8.567815200641235e-48\n",
      "cd=None\n",
      "omnibus=anova\n",
      "posthoc=tukeyhsd\n",
      "all_normal=True\n",
      "pvals_shapiro=[0.10380086302757263, 0.09705814719200134, 0.3442695736885071, 0.1916331946849823]\n",
      "homoscedastic=True\n",
      "pval_homogeneity=0.09882670707054891\n",
      "homogeneity_test=bartlett\n",
      "alpha=0.05\n",
      "alpha_normality=0.0125\n",
      "num_samples=100\n",
      "posterior_matrix=\n",
      "None\n",
      "decision_matrix=\n",
      "None\n",
      "rope=None\n",
      "rope_mode=None\n",
      "effect_size=cohen_d)\n",
      "The statistical analysis was conducted for 4 populations with 100 paired samples.\n",
      "The family-wise significance level of the tests is alpha=0.050.\n",
      "We failed to reject the null hypothesis that the population is normal for all populations (minimal observed p-value=0.097). Therefore, we assume that all populations are normal.\n",
      "We applied Bartlett's test for homogeneity and failed to reject the null hypothesis (p=0.099) that the data is homoscedastic. Thus, we assume that our data is homoscedastic.\n",
      "Because we have more than two populations and all populations are normal and homoscedastic, we use repeated measures ANOVA as omnibus test to determine if there are any significant differences between the mean values of the populations. If the results of the ANOVA test are significant, we use the post-hoc Tukey HSD test to infer which differences are significant. We report the mean value (M) and the standard deviation (SD) for each population. Populations are significantly different if their confidence intervals are not overlapping.\n",
      "We reject the null hypothesis (p=0.000) of the repeated measures ANOVA that there is a difference between the mean values of the populations RandomForest (M=0.668+-0.009, SD=0.049), Pruned DecisionTree (M=0.618+-0.009, SD=0.049), Unpruned DecisionTree (M=0.610+-0.009, SD=0.057), and Decision Stump (M=0.560+-0.009, SD=0.045). Therefore, we assume that there is a statistically significant difference between the mean values of the populations.\n",
      "Based post-hoc Tukey HSD test, we assume that there are no significant differences within the following groups: Pruned DecisionTree and Unpruned DecisionTree. All other differences are significant.\n",
      "\n",
      "\n",
      "\n",
      "RandomForest acc on test set:     0.67\n",
      "Pruned DecisionTree acc on test set:     0.63\n",
      "Unpruned DecisionTree acc on test set:     0.64\n",
      "Decision Stump acc on test set:     0.62\n"
     ]
    },
    {
     "name": "stderr",
     "output_type": "stream",
     "text": [
      "C:\\Users\\aiden\\.conda\\envs\\venv\\lib\\site-packages\\statsmodels\\sandbox\\stats\\multicomp.py:775: UserWarning: FixedFormatter should only be used together with FixedLocator\n",
      "  ax1.set_yticklabels(np.insert(self.groupsunique.astype(str), 0, ''))\n"
     ]
    },
    {
     "data": {
      "image/png": "[encoded data removed]",
      "text/plain": [
       "<Figure size 432x288 with 1 Axes>"
      ]
     },
     "metadata": {},
     "output_type": "display_data"
    }
   ],
   "source": [
    "train_results = compare_models(X_noise, X_test, y_train, y_test)\n",
    "for result in train_results:\n",
    "    train_results[\"Test noise \" + result] = train_results[result]"
   ]
  },
  {
   "cell_type": "markdown",
   "id": "remarkable-accreditation",
   "metadata": {},
   "source": [
    "### Add noise to test set"
   ]
  },
  {
   "cell_type": "code",
   "execution_count": 33,
   "id": "flying-adobe",
   "metadata": {},
   "outputs": [
    {
     "name": "stdout",
     "output_type": "stream",
     "text": [
      "RankResult(rankdf=\n",
      "                       meanrank      mean       std  ci_lower  ci_upper  \\\n",
      "RandomForest              1.515  0.669875  0.048983  0.657413  0.682337   \n",
      "Pruned DecisionTree       1.955  0.648125  0.055002  0.634132  0.662118   \n",
      "Unpruned DecisionTree     2.845  0.605875  0.057088  0.591351  0.620399   \n",
      "Decision Stump            3.685  0.559500  0.043957  0.548317  0.570683   \n",
      "\n",
      "                      effect_size   magnitude  \n",
      "RandomForest                  0.0  negligible  \n",
      "Pruned DecisionTree      0.417634       small  \n",
      "Unpruned DecisionTree    1.203239       large  \n",
      "Decision Stump           2.371741       large  \n",
      "pvalue=2.6665159015190102e-37\n",
      "cd=0.46903593329832804\n",
      "omnibus=friedman\n",
      "posthoc=nemenyi\n",
      "all_normal=True\n",
      "pvals_shapiro=[0.22651080787181854, 0.029995987191796303, 0.17797085642814636, 0.14355461299419403]\n",
      "homoscedastic=False\n",
      "pval_homogeneity=0.04445466146540819\n",
      "homogeneity_test=bartlett\n",
      "alpha=0.05\n",
      "alpha_normality=0.0125\n",
      "num_samples=100\n",
      "posterior_matrix=\n",
      "None\n",
      "decision_matrix=\n",
      "None\n",
      "rope=None\n",
      "rope_mode=None\n",
      "effect_size=cohen_d)\n",
      "The statistical analysis was conducted for 4 populations with 100 paired samples.\n",
      "The family-wise significance level of the tests is alpha=0.050.\n",
      "We failed to reject the null hypothesis that the population is normal for all populations (minimal observed p-value=0.030). Therefore, we assume that all populations are normal.\n",
      "We applied Bartlett's test for homogeneity and reject the null hypothesis (p=0.044) that thedata is homoscedastic. Thus, we assume that our data is heteroscedastic.\n",
      "Because we have more than two populations and the populations are normal but heteroscedastic, we use the non-parametric Friedman test as omnibus test to determine if there are any significant differences between the mean values of the populations. We use the post-hoc Nemenyi test to infer which differences are significant. We report the mean value (M), the standard deviation (SD) and the mean rank (MR) among all populations over the samples. Differences between populations are significant, if the difference of the mean rank is greater than the critical distance CD=0.469 of the Nemenyi test.\n",
      "We reject the null hypothesis (p=0.000) of the Friedman test that there is no difference in the central tendency of the populations RandomForest (M=0.670+-0.012, SD=0.049, MR=1.515), Pruned DecisionTree (M=0.648+-0.014, SD=0.055, MR=1.955), Unpruned DecisionTree (M=0.606+-0.015, SD=0.057, MR=2.845), and Decision Stump (M=0.560+-0.011, SD=0.044, MR=3.685). Therefore, we assume that there is a statistically significant difference between the median values of the populations.\n",
      "Based on the post-hoc Nemenyi test, we assume that there are no significant differences within the following groups: RandomForest and Pruned DecisionTree. All other differences are significant.\n",
      "\n",
      "\n",
      "RandomForest acc on test set:     0.70\n",
      "Pruned DecisionTree acc on test set:     0.63\n",
      "Unpruned DecisionTree acc on test set:     0.65\n",
      "Decision Stump acc on test set:     0.67\n"
     ]
    },
    {
     "data": {
      "image/png": "[encoded data removed]",
      "text/plain": [
       "<Figure size 432x111.6 with 1 Axes>"
      ]
     },
     "metadata": {},
     "output_type": "display_data"
    }
   ],
   "source": [
    "X_noise_test = multiplicativeNoise(X_test)\n",
    "test_results = compare_models(X_train, X_noise_test, y_train, y_test)"
   ]
  },
  {
   "cell_type": "code",
   "execution_count": 34,
   "id": "valuable-dairy",
   "metadata": {},
   "outputs": [
    {
     "name": "stdout",
     "output_type": "stream",
     "text": [
      "RankResult(rankdf=\n",
      "                                  meanrank      mean       std  ci_lower  \\\n",
      "RandomForest                         2.345  0.669063  0.048727   0.65954   \n",
      "Test noise RandomForest              2.345  0.669063  0.048727   0.65954   \n",
      "Pruned DecisionTree                  3.865  0.633000  0.054234  0.622401   \n",
      "Test noise Pruned DecisionTree       3.865  0.633000  0.054234  0.622401   \n",
      "Unpruned DecisionTree                5.055  0.608062  0.057192  0.596886   \n",
      "Test noise Unpruned DecisionTree     5.055  0.608062  0.057192  0.596886   \n",
      "Decision Stump                       6.735  0.559875  0.044457  0.551187   \n",
      "Test noise Decision Stump            6.735  0.559875  0.044457  0.551187   \n",
      "\n",
      "                                  ci_upper effect_size   magnitude  \n",
      "RandomForest                      0.678585         0.0  negligible  \n",
      "Test noise RandomForest           0.678585         0.0  negligible  \n",
      "Pruned DecisionTree               0.643599    0.699511      medium  \n",
      "Test noise Pruned DecisionTree    0.643599    0.699511      medium  \n",
      "Unpruned DecisionTree             0.619239    1.148172       large  \n",
      "Test noise Unpruned DecisionTree  0.619239    1.148172       large  \n",
      "Decision Stump                    0.568563    2.341037       large  \n",
      "Test noise Decision Stump         0.568563    2.341037       large  \n",
      "pvalue=1.9905907615858028e-157\n",
      "cd=0.7424061756735745\n",
      "omnibus=friedman\n",
      "posthoc=nemenyi\n",
      "all_normal=True\n",
      "pvals_shapiro=[0.022343575954437256, 0.06243288144469261, 0.1571693867444992, 0.010746371001005173, 0.022343575954437256, 0.06243288144469261, 0.1571693867444992, 0.010746371001005173]\n",
      "homoscedastic=False\n",
      "pval_homogeneity=0.00011618651554406824\n",
      "homogeneity_test=bartlett\n",
      "alpha=0.05\n",
      "alpha_normality=0.00625\n",
      "num_samples=200\n",
      "posterior_matrix=\n",
      "None\n",
      "decision_matrix=\n",
      "None\n",
      "rope=None\n",
      "rope_mode=None\n",
      "effect_size=cohen_d)\n",
      "The statistical analysis was conducted for 8 populations with 200 paired samples.\n",
      "The family-wise significance level of the tests is alpha=0.050.\n",
      "We failed to reject the null hypothesis that the population is normal for all populations (minimal observed p-value=0.011). Therefore, we assume that all populations are normal.\n",
      "We applied Bartlett's test for homogeneity and reject the null hypothesis (p=0.000) that thedata is homoscedastic. Thus, we assume that our data is heteroscedastic.\n",
      "Because we have more than two populations and the populations are normal but heteroscedastic, we use the non-parametric Friedman test as omnibus test to determine if there are any significant differences between the mean values of the populations. We use the post-hoc Nemenyi test to infer which differences are significant. We report the mean value (M), the standard deviation (SD) and the mean rank (MR) among all populations over the samples. Differences between populations are significant, if the difference of the mean rank is greater than the critical distance CD=0.742 of the Nemenyi test.\n",
      "We reject the null hypothesis (p=0.000) of the Friedman test that there is no difference in the central tendency of the populations RandomForest (M=0.669+-0.010, SD=0.049, MR=2.345), Test noise RandomForest (M=0.669+-0.010, SD=0.049, MR=2.345), Pruned DecisionTree (M=0.633+-0.011, SD=0.054, MR=3.865), Test noise Pruned DecisionTree (M=0.633+-0.011, SD=0.054, MR=3.865), Unpruned DecisionTree (M=0.608+-0.011, SD=0.057, MR=5.055), Test noise Unpruned DecisionTree (M=0.608+-0.011, SD=0.057, MR=5.055), Decision Stump (M=0.560+-0.009, SD=0.044, MR=6.735), and Test noise Decision Stump (M=0.560+-0.009, SD=0.044, MR=6.735). Therefore, we assume that there is a statistically significant difference between the median values of the populations.\n",
      "Based on the post-hoc Nemenyi test, we assume that there are no significant differences within the following groups: RandomForest and Test noise RandomForest; Pruned DecisionTree and Test noise Pruned DecisionTree; Unpruned DecisionTree and Test noise Unpruned DecisionTree; Decision Stump and Test noise Decision Stump. All other differences are significant.\n"
     ]
    },
    {
     "data": {
      "text/plain": [
       "<matplotlib.axes._axes.Axes at 0x23c16c14dc0>"
      ]
     },
     "execution_count": 34,
     "metadata": {},
     "output_type": "execute_result"
    },
    {
     "data": {
      "image/png": "[encoded data removed]",
      "text/plain": [
       "<Figure size 432x162 with 1 Axes>"
      ]
     },
     "metadata": {},
     "output_type": "display_data"
    }
   ],
   "source": [
    "for result in test_results:\n",
    "    test_results[\"Test noise \" + result] = test_results[result]\n",
    "# Show results\n",
    "combined = pd.concat([train_results, test_results])\n",
    "result = autorank(combined, verbose=False)\n",
    "print(result)\n",
    "create_report(result)\n",
    "plot_stats(result)"
   ]
  },
  {
   "cell_type": "markdown",
   "id": "secondary-avenue",
   "metadata": {},
   "source": [
    "### Answers\n",
    "It can be observed that adding noise to the test data improved the test scores for random forest, unpruned decision tree, and decision stump.\n",
    "No significant differences between the models though based on cross validation, but this only uses test data"
   ]
  }
 ],
 "metadata": {
  "kernelspec": {
   "display_name": "Python 3",
   "language": "python",
   "name": "python3"
  },
  "language_info": {
   "codemirror_mode": {
    "name": "ipython",
    "version": 3
   },
   "file_extension": ".py",
   "mimetype": "text/x-python",
   "name": "python",
   "nbconvert_exporter": "python",
   "pygments_lexer": "ipython3",
   "version": "3.9.2"
  },
  "toc-showmarkdowntxt": false
 },
 "nbformat": 4,
 "nbformat_minor": 5
}
