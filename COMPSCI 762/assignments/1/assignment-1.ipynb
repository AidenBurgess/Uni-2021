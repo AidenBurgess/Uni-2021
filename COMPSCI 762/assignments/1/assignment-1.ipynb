{
 "cells": [
  {
   "cell_type": "markdown",
   "id": "available-stephen",
   "metadata": {},
   "source": [
    "# Assignment 1\n"
   ]
  },
  {
   "cell_type": "code",
   "execution_count": 1,
   "id": "emerging-tonight",
   "metadata": {},
   "outputs": [],
   "source": [
    "import os\n",
    "\n",
    "import numpy as np\n",
    "from sklearn import tree\n",
    "from sklearn.tree import DecisionTreeClassifier\n",
    "from sklearn.ensemble import RandomForestClassifier\n",
    "from sklearn.ensemble import AdaBoostClassifier\n",
    "from sklearn.ensemble import BaggingClassifier\n",
    "from sklearn.ensemble import GradientBoostingClassifier\n",
    "from sklearn import datasets\n",
    "from sklearn.model_selection import train_test_split\n",
    "from sklearn.model_selection import cross_val_score\n",
    "import matplotlib.pyplot as plt\n",
    "import pandas as pd\n",
    "from autorank import autorank, create_report, plot_stats"
   ]
  },
  {
   "cell_type": "code",
   "execution_count": 2,
   "id": "sticky-printer",
   "metadata": {},
   "outputs": [],
   "source": [
    "# Reload local python files every 2 seconds\n",
    "\n",
    "%load_ext autoreload\n",
    "%autoreload 2"
   ]
  },
  {
   "cell_type": "code",
   "execution_count": 3,
   "id": "fitting-tribute",
   "metadata": {},
   "outputs": [],
   "source": [
    "RANDOM_STATE = 1234\n",
    "np.random.seed(RANDOM_STATE)"
   ]
  },
  {
   "cell_type": "markdown",
   "id": "spanish-forth",
   "metadata": {},
   "source": [
    "## Arrhythmia"
   ]
  },
  {
   "cell_type": "code",
   "execution_count": 4,
   "id": "abandoned-arena",
   "metadata": {
    "tags": []
   },
   "outputs": [
    {
     "data": {
      "text/html": [
       "<div>\n",
       "<style scoped>\n",
       "    .dataframe tbody tr th:only-of-type {\n",
       "        vertical-align: middle;\n",
       "    }\n",
       "\n",
       "    .dataframe tbody tr th {\n",
       "        vertical-align: top;\n",
       "    }\n",
       "\n",
       "    .dataframe thead th {\n",
       "        text-align: right;\n",
       "    }\n",
       "</style>\n",
       "<table border=\"1\" class=\"dataframe\">\n",
       "  <thead>\n",
       "    <tr style=\"text-align: right;\">\n",
       "      <th></th>\n",
       "      <th>age</th>\n",
       "      <th>sex</th>\n",
       "      <th>height</th>\n",
       "      <th>weight</th>\n",
       "      <th>QRSduration</th>\n",
       "      <th>PRinterval</th>\n",
       "      <th>Q-Tinterval</th>\n",
       "      <th>Tinterval</th>\n",
       "      <th>Pinterval</th>\n",
       "      <th>QRS</th>\n",
       "      <th>...</th>\n",
       "      <th>chV6_QwaveAmp</th>\n",
       "      <th>chV6_RwaveAmp</th>\n",
       "      <th>chV6_SwaveAmp</th>\n",
       "      <th>chV6_RPwaveAmp</th>\n",
       "      <th>chV6_SPwaveAmp</th>\n",
       "      <th>chV6_PwaveAmp</th>\n",
       "      <th>chV6_TwaveAmp</th>\n",
       "      <th>chV6_QRSA</th>\n",
       "      <th>chV6_QRSTA</th>\n",
       "      <th>class</th>\n",
       "    </tr>\n",
       "  </thead>\n",
       "  <tbody>\n",
       "    <tr>\n",
       "      <th>0</th>\n",
       "      <td>75.0</td>\n",
       "      <td>0.0</td>\n",
       "      <td>190.0</td>\n",
       "      <td>80.0</td>\n",
       "      <td>91.0</td>\n",
       "      <td>193.0</td>\n",
       "      <td>371.0</td>\n",
       "      <td>174.0</td>\n",
       "      <td>121.0</td>\n",
       "      <td>-16.0</td>\n",
       "      <td>...</td>\n",
       "      <td>0.0</td>\n",
       "      <td>9.0</td>\n",
       "      <td>-0.9</td>\n",
       "      <td>0.0</td>\n",
       "      <td>0.0</td>\n",
       "      <td>0.9</td>\n",
       "      <td>2.9</td>\n",
       "      <td>23.3</td>\n",
       "      <td>49.4</td>\n",
       "      <td>8.0</td>\n",
       "    </tr>\n",
       "    <tr>\n",
       "      <th>1</th>\n",
       "      <td>56.0</td>\n",
       "      <td>1.0</td>\n",
       "      <td>165.0</td>\n",
       "      <td>64.0</td>\n",
       "      <td>81.0</td>\n",
       "      <td>174.0</td>\n",
       "      <td>401.0</td>\n",
       "      <td>149.0</td>\n",
       "      <td>39.0</td>\n",
       "      <td>25.0</td>\n",
       "      <td>...</td>\n",
       "      <td>0.0</td>\n",
       "      <td>8.5</td>\n",
       "      <td>0.0</td>\n",
       "      <td>0.0</td>\n",
       "      <td>0.0</td>\n",
       "      <td>0.2</td>\n",
       "      <td>2.1</td>\n",
       "      <td>20.4</td>\n",
       "      <td>38.8</td>\n",
       "      <td>6.0</td>\n",
       "    </tr>\n",
       "    <tr>\n",
       "      <th>2</th>\n",
       "      <td>54.0</td>\n",
       "      <td>0.0</td>\n",
       "      <td>172.0</td>\n",
       "      <td>95.0</td>\n",
       "      <td>138.0</td>\n",
       "      <td>163.0</td>\n",
       "      <td>386.0</td>\n",
       "      <td>185.0</td>\n",
       "      <td>102.0</td>\n",
       "      <td>96.0</td>\n",
       "      <td>...</td>\n",
       "      <td>0.0</td>\n",
       "      <td>9.5</td>\n",
       "      <td>-2.4</td>\n",
       "      <td>0.0</td>\n",
       "      <td>0.0</td>\n",
       "      <td>0.3</td>\n",
       "      <td>3.4</td>\n",
       "      <td>12.3</td>\n",
       "      <td>49.0</td>\n",
       "      <td>10.0</td>\n",
       "    </tr>\n",
       "    <tr>\n",
       "      <th>3</th>\n",
       "      <td>55.0</td>\n",
       "      <td>0.0</td>\n",
       "      <td>175.0</td>\n",
       "      <td>94.0</td>\n",
       "      <td>100.0</td>\n",
       "      <td>202.0</td>\n",
       "      <td>380.0</td>\n",
       "      <td>179.0</td>\n",
       "      <td>143.0</td>\n",
       "      <td>28.0</td>\n",
       "      <td>...</td>\n",
       "      <td>0.0</td>\n",
       "      <td>12.2</td>\n",
       "      <td>-2.2</td>\n",
       "      <td>0.0</td>\n",
       "      <td>0.0</td>\n",
       "      <td>0.4</td>\n",
       "      <td>2.6</td>\n",
       "      <td>34.6</td>\n",
       "      <td>61.6</td>\n",
       "      <td>1.0</td>\n",
       "    </tr>\n",
       "    <tr>\n",
       "      <th>4</th>\n",
       "      <td>75.0</td>\n",
       "      <td>0.0</td>\n",
       "      <td>190.0</td>\n",
       "      <td>80.0</td>\n",
       "      <td>88.0</td>\n",
       "      <td>181.0</td>\n",
       "      <td>360.0</td>\n",
       "      <td>177.0</td>\n",
       "      <td>103.0</td>\n",
       "      <td>-16.0</td>\n",
       "      <td>...</td>\n",
       "      <td>0.0</td>\n",
       "      <td>13.1</td>\n",
       "      <td>-3.6</td>\n",
       "      <td>0.0</td>\n",
       "      <td>0.0</td>\n",
       "      <td>-0.1</td>\n",
       "      <td>3.9</td>\n",
       "      <td>25.4</td>\n",
       "      <td>62.8</td>\n",
       "      <td>7.0</td>\n",
       "    </tr>\n",
       "  </tbody>\n",
       "</table>\n",
       "<p>5 rows × 280 columns</p>\n",
       "</div>"
      ],
      "text/plain": [
       "    age   sex   height   weight   QRSduration   PRinterval   Q-Tinterval  \\\n",
       "0  75.0   0.0    190.0     80.0          91.0        193.0         371.0   \n",
       "1  56.0   1.0    165.0     64.0          81.0        174.0         401.0   \n",
       "2  54.0   0.0    172.0     95.0         138.0        163.0         386.0   \n",
       "3  55.0   0.0    175.0     94.0         100.0        202.0         380.0   \n",
       "4  75.0   0.0    190.0     80.0          88.0        181.0         360.0   \n",
       "\n",
       "    Tinterval   Pinterval   QRS  ...  chV6_QwaveAmp  chV6_RwaveAmp  \\\n",
       "0       174.0       121.0 -16.0  ...            0.0            9.0   \n",
       "1       149.0        39.0  25.0  ...            0.0            8.5   \n",
       "2       185.0       102.0  96.0  ...            0.0            9.5   \n",
       "3       179.0       143.0  28.0  ...            0.0           12.2   \n",
       "4       177.0       103.0 -16.0  ...            0.0           13.1   \n",
       "\n",
       "   chV6_SwaveAmp  chV6_RPwaveAmp  chV6_SPwaveAmp  chV6_PwaveAmp  \\\n",
       "0           -0.9             0.0             0.0            0.9   \n",
       "1            0.0             0.0             0.0            0.2   \n",
       "2           -2.4             0.0             0.0            0.3   \n",
       "3           -2.2             0.0             0.0            0.4   \n",
       "4           -3.6             0.0             0.0           -0.1   \n",
       "\n",
       "   chV6_TwaveAmp  chV6_QRSA  chV6_QRSTA  class  \n",
       "0            2.9       23.3        49.4    8.0  \n",
       "1            2.1       20.4        38.8    6.0  \n",
       "2            3.4       12.3        49.0   10.0  \n",
       "3            2.6       34.6        61.6    1.0  \n",
       "4            3.9       25.4        62.8    7.0  \n",
       "\n",
       "[5 rows x 280 columns]"
      ]
     },
     "execution_count": 4,
     "metadata": {},
     "output_type": "execute_result"
    }
   ],
   "source": [
    "PATH_ARRHYTHMIA = os.path.join('datasets', 'arrhythmia.csv')\n",
    "arrhythmia = pd.read_csv(PATH_ARRHYTHMIA, sep=',')\n",
    "arrhythmia = arrhythmia.replace('?',0).astype(float)\n",
    "arrhythmia.head()"
   ]
  },
  {
   "cell_type": "code",
   "execution_count": 5,
   "id": "surrounded-general",
   "metadata": {},
   "outputs": [
    {
     "name": "stdout",
     "output_type": "stream",
     "text": [
      "(452, 280) (452,) (452, 279)\n"
     ]
    }
   ],
   "source": [
    "# Split data \n",
    "y = arrhythmia['class'].to_numpy()\n",
    "X = arrhythmia.drop(['class'], axis=1).to_numpy()\n",
    "print(arrhythmia.shape, y.shape, X.shape)"
   ]
  },
  {
   "cell_type": "markdown",
   "id": "dress-barrier",
   "metadata": {
    "tags": []
   },
   "source": [
    "### Decision Tree"
   ]
  },
  {
   "cell_type": "code",
   "execution_count": 6,
   "id": "broad-bermuda",
   "metadata": {},
   "outputs": [
    {
     "name": "stderr",
     "output_type": "stream",
     "text": [
      "C:\\Users\\aiden\\.conda\\envs\\venv\\lib\\site-packages\\sklearn\\model_selection\\_split.py:666: UserWarning: The least populated class in y has only 2 members, which is less than n_splits=10.\n",
      "  warnings.warn((\"The least populated class in y has only %d\"\n",
      "C:\\Users\\aiden\\.conda\\envs\\venv\\lib\\site-packages\\sklearn\\model_selection\\_split.py:666: UserWarning: The least populated class in y has only 2 members, which is less than n_splits=10.\n",
      "  warnings.warn((\"The least populated class in y has only %d\"\n",
      "C:\\Users\\aiden\\.conda\\envs\\venv\\lib\\site-packages\\sklearn\\model_selection\\_split.py:666: UserWarning: The least populated class in y has only 2 members, which is less than n_splits=10.\n",
      "  warnings.warn((\"The least populated class in y has only %d\"\n",
      "C:\\Users\\aiden\\.conda\\envs\\venv\\lib\\site-packages\\sklearn\\model_selection\\_split.py:666: UserWarning: The least populated class in y has only 2 members, which is less than n_splits=10.\n",
      "  warnings.warn((\"The least populated class in y has only %d\"\n",
      "C:\\Users\\aiden\\.conda\\envs\\venv\\lib\\site-packages\\sklearn\\model_selection\\_split.py:666: UserWarning: The least populated class in y has only 2 members, which is less than n_splits=10.\n",
      "  warnings.warn((\"The least populated class in y has only %d\"\n",
      "C:\\Users\\aiden\\.conda\\envs\\venv\\lib\\site-packages\\sklearn\\model_selection\\_split.py:666: UserWarning: The least populated class in y has only 2 members, which is less than n_splits=10.\n",
      "  warnings.warn((\"The least populated class in y has only %d\"\n",
      "C:\\Users\\aiden\\.conda\\envs\\venv\\lib\\site-packages\\sklearn\\model_selection\\_split.py:666: UserWarning: The least populated class in y has only 2 members, which is less than n_splits=10.\n",
      "  warnings.warn((\"The least populated class in y has only %d\"\n",
      "C:\\Users\\aiden\\.conda\\envs\\venv\\lib\\site-packages\\sklearn\\model_selection\\_split.py:666: UserWarning: The least populated class in y has only 2 members, which is less than n_splits=10.\n",
      "  warnings.warn((\"The least populated class in y has only %d\"\n",
      "C:\\Users\\aiden\\.conda\\envs\\venv\\lib\\site-packages\\sklearn\\model_selection\\_split.py:666: UserWarning: The least populated class in y has only 2 members, which is less than n_splits=10.\n",
      "  warnings.warn((\"The least populated class in y has only %d\"\n",
      "C:\\Users\\aiden\\.conda\\envs\\venv\\lib\\site-packages\\sklearn\\model_selection\\_split.py:666: UserWarning: The least populated class in y has only 2 members, which is less than n_splits=10.\n",
      "  warnings.warn((\"The least populated class in y has only %d\"\n"
     ]
    },
    {
     "name": "stdout",
     "output_type": "stream",
     "text": [
      "0.645864734299517\n"
     ]
    }
   ],
   "source": [
    "dt_scores = []\n",
    "for i in range(10):\n",
    "    model = DecisionTreeClassifier(random_state=i)\n",
    "    model.fit(X, y)\n",
    "    dt_scores.extend(cross_val_score(model, X, y, cv=10))\n",
    "print(np.average(dt_scores))"
   ]
  },
  {
   "cell_type": "markdown",
   "id": "expensive-study",
   "metadata": {},
   "source": [
    "### Random Forest"
   ]
  },
  {
   "cell_type": "code",
   "execution_count": 7,
   "id": "natural-camera",
   "metadata": {},
   "outputs": [
    {
     "name": "stderr",
     "output_type": "stream",
     "text": [
      "C:\\Users\\aiden\\.conda\\envs\\venv\\lib\\site-packages\\sklearn\\model_selection\\_split.py:666: UserWarning: The least populated class in y has only 2 members, which is less than n_splits=10.\n",
      "  warnings.warn((\"The least populated class in y has only %d\"\n",
      "C:\\Users\\aiden\\.conda\\envs\\venv\\lib\\site-packages\\sklearn\\model_selection\\_split.py:666: UserWarning: The least populated class in y has only 2 members, which is less than n_splits=10.\n",
      "  warnings.warn((\"The least populated class in y has only %d\"\n",
      "C:\\Users\\aiden\\.conda\\envs\\venv\\lib\\site-packages\\sklearn\\model_selection\\_split.py:666: UserWarning: The least populated class in y has only 2 members, which is less than n_splits=10.\n",
      "  warnings.warn((\"The least populated class in y has only %d\"\n",
      "C:\\Users\\aiden\\.conda\\envs\\venv\\lib\\site-packages\\sklearn\\model_selection\\_split.py:666: UserWarning: The least populated class in y has only 2 members, which is less than n_splits=10.\n",
      "  warnings.warn((\"The least populated class in y has only %d\"\n",
      "C:\\Users\\aiden\\.conda\\envs\\venv\\lib\\site-packages\\sklearn\\model_selection\\_split.py:666: UserWarning: The least populated class in y has only 2 members, which is less than n_splits=10.\n",
      "  warnings.warn((\"The least populated class in y has only %d\"\n",
      "C:\\Users\\aiden\\.conda\\envs\\venv\\lib\\site-packages\\sklearn\\model_selection\\_split.py:666: UserWarning: The least populated class in y has only 2 members, which is less than n_splits=10.\n",
      "  warnings.warn((\"The least populated class in y has only %d\"\n",
      "C:\\Users\\aiden\\.conda\\envs\\venv\\lib\\site-packages\\sklearn\\model_selection\\_split.py:666: UserWarning: The least populated class in y has only 2 members, which is less than n_splits=10.\n",
      "  warnings.warn((\"The least populated class in y has only %d\"\n",
      "C:\\Users\\aiden\\.conda\\envs\\venv\\lib\\site-packages\\sklearn\\model_selection\\_split.py:666: UserWarning: The least populated class in y has only 2 members, which is less than n_splits=10.\n",
      "  warnings.warn((\"The least populated class in y has only %d\"\n",
      "C:\\Users\\aiden\\.conda\\envs\\venv\\lib\\site-packages\\sklearn\\model_selection\\_split.py:666: UserWarning: The least populated class in y has only 2 members, which is less than n_splits=10.\n",
      "  warnings.warn((\"The least populated class in y has only %d\"\n",
      "C:\\Users\\aiden\\.conda\\envs\\venv\\lib\\site-packages\\sklearn\\model_selection\\_split.py:666: UserWarning: The least populated class in y has only 2 members, which is less than n_splits=10.\n",
      "  warnings.warn((\"The least populated class in y has only %d\"\n"
     ]
    },
    {
     "name": "stdout",
     "output_type": "stream",
     "text": [
      "0.7087101449275363\n"
     ]
    }
   ],
   "source": [
    "rf_scores = []\n",
    "for i in range(10):\n",
    "    model = RandomForestClassifier(random_state=i, n_estimators=10)\n",
    "    model.fit(X, y)\n",
    "    rf_scores.extend(cross_val_score(model, X, y, cv=10))\n",
    "print(np.average(rf_scores))"
   ]
  },
  {
   "cell_type": "markdown",
   "id": "present-syracuse",
   "metadata": {},
   "source": [
    "### AdaBoost"
   ]
  },
  {
   "cell_type": "code",
   "execution_count": 8,
   "id": "heavy-baghdad",
   "metadata": {},
   "outputs": [
    {
     "name": "stderr",
     "output_type": "stream",
     "text": [
      "C:\\Users\\aiden\\.conda\\envs\\venv\\lib\\site-packages\\sklearn\\model_selection\\_split.py:666: UserWarning: The least populated class in y has only 2 members, which is less than n_splits=10.\n",
      "  warnings.warn((\"The least populated class in y has only %d\"\n",
      "C:\\Users\\aiden\\.conda\\envs\\venv\\lib\\site-packages\\sklearn\\model_selection\\_split.py:666: UserWarning: The least populated class in y has only 2 members, which is less than n_splits=10.\n",
      "  warnings.warn((\"The least populated class in y has only %d\"\n",
      "C:\\Users\\aiden\\.conda\\envs\\venv\\lib\\site-packages\\sklearn\\model_selection\\_split.py:666: UserWarning: The least populated class in y has only 2 members, which is less than n_splits=10.\n",
      "  warnings.warn((\"The least populated class in y has only %d\"\n",
      "C:\\Users\\aiden\\.conda\\envs\\venv\\lib\\site-packages\\sklearn\\model_selection\\_split.py:666: UserWarning: The least populated class in y has only 2 members, which is less than n_splits=10.\n",
      "  warnings.warn((\"The least populated class in y has only %d\"\n",
      "C:\\Users\\aiden\\.conda\\envs\\venv\\lib\\site-packages\\sklearn\\model_selection\\_split.py:666: UserWarning: The least populated class in y has only 2 members, which is less than n_splits=10.\n",
      "  warnings.warn((\"The least populated class in y has only %d\"\n",
      "C:\\Users\\aiden\\.conda\\envs\\venv\\lib\\site-packages\\sklearn\\model_selection\\_split.py:666: UserWarning: The least populated class in y has only 2 members, which is less than n_splits=10.\n",
      "  warnings.warn((\"The least populated class in y has only %d\"\n",
      "C:\\Users\\aiden\\.conda\\envs\\venv\\lib\\site-packages\\sklearn\\model_selection\\_split.py:666: UserWarning: The least populated class in y has only 2 members, which is less than n_splits=10.\n",
      "  warnings.warn((\"The least populated class in y has only %d\"\n",
      "C:\\Users\\aiden\\.conda\\envs\\venv\\lib\\site-packages\\sklearn\\model_selection\\_split.py:666: UserWarning: The least populated class in y has only 2 members, which is less than n_splits=10.\n",
      "  warnings.warn((\"The least populated class in y has only %d\"\n",
      "C:\\Users\\aiden\\.conda\\envs\\venv\\lib\\site-packages\\sklearn\\model_selection\\_split.py:666: UserWarning: The least populated class in y has only 2 members, which is less than n_splits=10.\n",
      "  warnings.warn((\"The least populated class in y has only %d\"\n",
      "C:\\Users\\aiden\\.conda\\envs\\venv\\lib\\site-packages\\sklearn\\model_selection\\_split.py:666: UserWarning: The least populated class in y has only 2 members, which is less than n_splits=10.\n",
      "  warnings.warn((\"The least populated class in y has only %d\"\n"
     ]
    },
    {
     "name": "stdout",
     "output_type": "stream",
     "text": [
      "0.6081642512077293\n"
     ]
    }
   ],
   "source": [
    "ab_scores = []\n",
    "for i in range(10):\n",
    "    model = AdaBoostClassifier(random_state=i, n_estimators=10)\n",
    "    model.fit(X, y)\n",
    "    ab_scores.extend(cross_val_score(model, X, y, cv=10))\n",
    "print(np.average(ab_scores))"
   ]
  },
  {
   "cell_type": "markdown",
   "id": "chinese-insulation",
   "metadata": {
    "tags": []
   },
   "source": [
    "### Bagging"
   ]
  },
  {
   "cell_type": "code",
   "execution_count": 9,
   "id": "capital-traffic",
   "metadata": {
    "tags": []
   },
   "outputs": [
    {
     "name": "stderr",
     "output_type": "stream",
     "text": [
      "C:\\Users\\aiden\\.conda\\envs\\venv\\lib\\site-packages\\sklearn\\model_selection\\_split.py:666: UserWarning: The least populated class in y has only 2 members, which is less than n_splits=10.\n",
      "  warnings.warn((\"The least populated class in y has only %d\"\n",
      "C:\\Users\\aiden\\.conda\\envs\\venv\\lib\\site-packages\\sklearn\\model_selection\\_split.py:666: UserWarning: The least populated class in y has only 2 members, which is less than n_splits=10.\n",
      "  warnings.warn((\"The least populated class in y has only %d\"\n",
      "C:\\Users\\aiden\\.conda\\envs\\venv\\lib\\site-packages\\sklearn\\model_selection\\_split.py:666: UserWarning: The least populated class in y has only 2 members, which is less than n_splits=10.\n",
      "  warnings.warn((\"The least populated class in y has only %d\"\n",
      "C:\\Users\\aiden\\.conda\\envs\\venv\\lib\\site-packages\\sklearn\\model_selection\\_split.py:666: UserWarning: The least populated class in y has only 2 members, which is less than n_splits=10.\n",
      "  warnings.warn((\"The least populated class in y has only %d\"\n",
      "C:\\Users\\aiden\\.conda\\envs\\venv\\lib\\site-packages\\sklearn\\model_selection\\_split.py:666: UserWarning: The least populated class in y has only 2 members, which is less than n_splits=10.\n",
      "  warnings.warn((\"The least populated class in y has only %d\"\n",
      "C:\\Users\\aiden\\.conda\\envs\\venv\\lib\\site-packages\\sklearn\\model_selection\\_split.py:666: UserWarning: The least populated class in y has only 2 members, which is less than n_splits=10.\n",
      "  warnings.warn((\"The least populated class in y has only %d\"\n",
      "C:\\Users\\aiden\\.conda\\envs\\venv\\lib\\site-packages\\sklearn\\model_selection\\_split.py:666: UserWarning: The least populated class in y has only 2 members, which is less than n_splits=10.\n",
      "  warnings.warn((\"The least populated class in y has only %d\"\n",
      "C:\\Users\\aiden\\.conda\\envs\\venv\\lib\\site-packages\\sklearn\\model_selection\\_split.py:666: UserWarning: The least populated class in y has only 2 members, which is less than n_splits=10.\n",
      "  warnings.warn((\"The least populated class in y has only %d\"\n",
      "C:\\Users\\aiden\\.conda\\envs\\venv\\lib\\site-packages\\sklearn\\model_selection\\_split.py:666: UserWarning: The least populated class in y has only 2 members, which is less than n_splits=10.\n",
      "  warnings.warn((\"The least populated class in y has only %d\"\n",
      "C:\\Users\\aiden\\.conda\\envs\\venv\\lib\\site-packages\\sklearn\\model_selection\\_split.py:666: UserWarning: The least populated class in y has only 2 members, which is less than n_splits=10.\n",
      "  warnings.warn((\"The least populated class in y has only %d\"\n"
     ]
    },
    {
     "name": "stdout",
     "output_type": "stream",
     "text": [
      "0.7320338164251207\n"
     ]
    }
   ],
   "source": [
    "b_scores = []\n",
    "for i in range(10):\n",
    "    model = BaggingClassifier(random_state=i, n_estimators=10)\n",
    "    model.fit(X, y)\n",
    "    b_scores.extend(cross_val_score(model, X, y, cv=10))\n",
    "print(np.average(b_scores))"
   ]
  },
  {
   "cell_type": "markdown",
   "id": "square-filing",
   "metadata": {},
   "source": [
    "### Gradient Boosting"
   ]
  },
  {
   "cell_type": "code",
   "execution_count": 10,
   "id": "varying-paradise",
   "metadata": {},
   "outputs": [
    {
     "name": "stderr",
     "output_type": "stream",
     "text": [
      "C:\\Users\\aiden\\.conda\\envs\\venv\\lib\\site-packages\\sklearn\\model_selection\\_split.py:666: UserWarning: The least populated class in y has only 2 members, which is less than n_splits=10.\n",
      "  warnings.warn((\"The least populated class in y has only %d\"\n",
      "C:\\Users\\aiden\\.conda\\envs\\venv\\lib\\site-packages\\sklearn\\model_selection\\_split.py:666: UserWarning: The least populated class in y has only 2 members, which is less than n_splits=10.\n",
      "  warnings.warn((\"The least populated class in y has only %d\"\n",
      "C:\\Users\\aiden\\.conda\\envs\\venv\\lib\\site-packages\\sklearn\\model_selection\\_split.py:666: UserWarning: The least populated class in y has only 2 members, which is less than n_splits=10.\n",
      "  warnings.warn((\"The least populated class in y has only %d\"\n",
      "C:\\Users\\aiden\\.conda\\envs\\venv\\lib\\site-packages\\sklearn\\model_selection\\_split.py:666: UserWarning: The least populated class in y has only 2 members, which is less than n_splits=10.\n",
      "  warnings.warn((\"The least populated class in y has only %d\"\n",
      "C:\\Users\\aiden\\.conda\\envs\\venv\\lib\\site-packages\\sklearn\\model_selection\\_split.py:666: UserWarning: The least populated class in y has only 2 members, which is less than n_splits=10.\n",
      "  warnings.warn((\"The least populated class in y has only %d\"\n",
      "C:\\Users\\aiden\\.conda\\envs\\venv\\lib\\site-packages\\sklearn\\model_selection\\_split.py:666: UserWarning: The least populated class in y has only 2 members, which is less than n_splits=10.\n",
      "  warnings.warn((\"The least populated class in y has only %d\"\n",
      "C:\\Users\\aiden\\.conda\\envs\\venv\\lib\\site-packages\\sklearn\\model_selection\\_split.py:666: UserWarning: The least populated class in y has only 2 members, which is less than n_splits=10.\n",
      "  warnings.warn((\"The least populated class in y has only %d\"\n",
      "C:\\Users\\aiden\\.conda\\envs\\venv\\lib\\site-packages\\sklearn\\model_selection\\_split.py:666: UserWarning: The least populated class in y has only 2 members, which is less than n_splits=10.\n",
      "  warnings.warn((\"The least populated class in y has only %d\"\n",
      "C:\\Users\\aiden\\.conda\\envs\\venv\\lib\\site-packages\\sklearn\\model_selection\\_split.py:666: UserWarning: The least populated class in y has only 2 members, which is less than n_splits=10.\n",
      "  warnings.warn((\"The least populated class in y has only %d\"\n",
      "C:\\Users\\aiden\\.conda\\envs\\venv\\lib\\site-packages\\sklearn\\model_selection\\_split.py:666: UserWarning: The least populated class in y has only 2 members, which is less than n_splits=10.\n",
      "  warnings.warn((\"The least populated class in y has only %d\"\n"
     ]
    },
    {
     "name": "stdout",
     "output_type": "stream",
     "text": [
      "0.7055990338164251 0.03218182541868286\n"
     ]
    }
   ],
   "source": [
    "gb_scores = []\n",
    "for i in range(10):\n",
    "    model = GradientBoostingClassifier(random_state=i, n_estimators=10)\n",
    "    model.fit(X, y)\n",
    "    gb_scores.extend(cross_val_score(model, X, y, cv=10))\n",
    "print(np.average(gb_scores), np.std(gb_scores))"
   ]
  },
  {
   "cell_type": "markdown",
   "id": "dramatic-convenience",
   "metadata": {
    "tags": []
   },
   "source": [
    "### Autorank Arrythmia"
   ]
  },
  {
   "cell_type": "code",
   "execution_count": 11,
   "id": "automated-reputation",
   "metadata": {},
   "outputs": [
    {
     "data": {
      "text/html": [
       "<div>\n",
       "<style scoped>\n",
       "    .dataframe tbody tr th:only-of-type {\n",
       "        vertical-align: middle;\n",
       "    }\n",
       "\n",
       "    .dataframe tbody tr th {\n",
       "        vertical-align: top;\n",
       "    }\n",
       "\n",
       "    .dataframe thead th {\n",
       "        text-align: right;\n",
       "    }\n",
       "</style>\n",
       "<table border=\"1\" class=\"dataframe\">\n",
       "  <thead>\n",
       "    <tr style=\"text-align: right;\">\n",
       "      <th></th>\n",
       "      <th>DecisionTree</th>\n",
       "      <th>RandomForest</th>\n",
       "      <th>AdaBoost</th>\n",
       "      <th>Bagging</th>\n",
       "      <th>Gradient Boosting</th>\n",
       "    </tr>\n",
       "  </thead>\n",
       "  <tbody>\n",
       "    <tr>\n",
       "      <th>0</th>\n",
       "      <td>0.630435</td>\n",
       "      <td>0.739130</td>\n",
       "      <td>0.673913</td>\n",
       "      <td>0.804348</td>\n",
       "      <td>0.717391</td>\n",
       "    </tr>\n",
       "    <tr>\n",
       "      <th>1</th>\n",
       "      <td>0.673913</td>\n",
       "      <td>0.782609</td>\n",
       "      <td>0.652174</td>\n",
       "      <td>0.847826</td>\n",
       "      <td>0.760870</td>\n",
       "    </tr>\n",
       "    <tr>\n",
       "      <th>2</th>\n",
       "      <td>0.577778</td>\n",
       "      <td>0.644444</td>\n",
       "      <td>0.600000</td>\n",
       "      <td>0.622222</td>\n",
       "      <td>0.644444</td>\n",
       "    </tr>\n",
       "    <tr>\n",
       "      <th>3</th>\n",
       "      <td>0.711111</td>\n",
       "      <td>0.733333</td>\n",
       "      <td>0.555556</td>\n",
       "      <td>0.777778</td>\n",
       "      <td>0.666667</td>\n",
       "    </tr>\n",
       "    <tr>\n",
       "      <th>4</th>\n",
       "      <td>0.755556</td>\n",
       "      <td>0.688889</td>\n",
       "      <td>0.600000</td>\n",
       "      <td>0.733333</td>\n",
       "      <td>0.733333</td>\n",
       "    </tr>\n",
       "  </tbody>\n",
       "</table>\n",
       "</div>"
      ],
      "text/plain": [
       "   DecisionTree  RandomForest  AdaBoost   Bagging  Gradient Boosting\n",
       "0      0.630435      0.739130  0.673913  0.804348           0.717391\n",
       "1      0.673913      0.782609  0.652174  0.847826           0.760870\n",
       "2      0.577778      0.644444  0.600000  0.622222           0.644444\n",
       "3      0.711111      0.733333  0.555556  0.777778           0.666667\n",
       "4      0.755556      0.688889  0.600000  0.733333           0.733333"
      ]
     },
     "execution_count": 11,
     "metadata": {},
     "output_type": "execute_result"
    }
   ],
   "source": [
    "df = pd.DataFrame()\n",
    "df['DecisionTree'] = dt_scores\n",
    "df['RandomForest'] = rf_scores\n",
    "df['AdaBoost'] = ab_scores\n",
    "df['Bagging'] = b_scores\n",
    "df['Gradient Boosting'] = gb_scores\n",
    "df.head()"
   ]
  },
  {
   "cell_type": "code",
   "execution_count": 12,
   "id": "determined-filename",
   "metadata": {},
   "outputs": [
    {
     "name": "stdout",
     "output_type": "stream",
     "text": [
      "RankResult(rankdf=\n",
      "                   meanrank    median       mad  ci_lower  ci_upper  \\\n",
      "Bagging               1.775  0.733333  0.065893  0.711111   0.76087   \n",
      "Gradient Boosting     2.335  0.711111  0.032947  0.688889  0.733333   \n",
      "RandomForest          2.430  0.711111  0.048346  0.688889  0.733333   \n",
      "DecisionTree          3.865  0.644444  0.082367       0.6  0.673913   \n",
      "AdaBoost              4.595  0.600000  0.032947       0.6  0.622222   \n",
      "\n",
      "                  effect_size   magnitude  \n",
      "Bagging                   0.0  negligible  \n",
      "Gradient Boosting    0.426585       small  \n",
      "RandomForest         0.384538       small  \n",
      "DecisionTree         1.191761       large  \n",
      "AdaBoost             2.559512       large  \n",
      "pvalue=4.546369820990218e-49\n",
      "cd=0.6099436402016305\n",
      "omnibus=friedman\n",
      "posthoc=nemenyi\n",
      "all_normal=False\n",
      "pvals_shapiro=[0.0011158024426549673, 0.12196420133113861, 8.504906872985885e-06, 0.007836595177650452, 0.0009128627716563642]\n",
      "homoscedastic=False\n",
      "pval_homogeneity=3.5820047138523126e-14\n",
      "homogeneity_test=levene\n",
      "alpha=0.05\n",
      "alpha_normality=0.01\n",
      "num_samples=100\n",
      "posterior_matrix=\n",
      "None\n",
      "decision_matrix=\n",
      "None\n",
      "rope=None\n",
      "rope_mode=None\n",
      "effect_size=akinshin_gamma)\n",
      "The statistical analysis was conducted for 5 populations with 100 paired samples.\n",
      "The family-wise significance level of the tests is alpha=0.050.\n",
      "We rejected the null hypothesis that the population is normal for the populations Bagging (p=0.001), RandomForest (p=0.000), DecisionTree (p=0.008), and AdaBoost (p=0.001). Therefore, we assume that not all populations are normal.\n",
      "Because we have more than two populations and the populations and some of them are not normal, we use the non-parametric Friedman test as omnibus test to determine if there are any significant differences between the median values of the populations. We use the post-hoc Nemenyi test to infer which differences are significant. We report the median (MD), the median absolute deviation (MAD) and the mean rank (MR) among all populations over the samples. Differences between populations are significant, if the difference of the mean rank is greater than the critical distance CD=0.610 of the Nemenyi test.\n",
      "We reject the null hypothesis (p=0.000) of the Friedman test that there is no difference in the central tendency of the populations Bagging (MD=0.733+-0.025, MAD=0.066, MR=1.775), Gradient Boosting (MD=0.711+-0.022, MAD=0.033, MR=2.335), RandomForest (MD=0.711+-0.022, MAD=0.048, MR=2.430), DecisionTree (MD=0.644+-0.037, MAD=0.082, MR=3.865), and AdaBoost (MD=0.600+-0.011, MAD=0.033, MR=4.595). Therefore, we assume that there is a statistically significant difference between the median values of the populations.\n",
      "Based on the post-hoc Nemenyi test, we assume that there are no significant differences within the following groups: Bagging and Gradient Boosting; Gradient Boosting and RandomForest. All other differences are significant.\n"
     ]
    },
    {
     "data": {
      "text/plain": [
       "<matplotlib.axes._axes.Axes at 0x19e4cad5820>"
      ]
     },
     "execution_count": 12,
     "metadata": {},
     "output_type": "execute_result"
    },
    {
     "data": {
      "image/png": "[encoded data removed]",
      "text/plain": [
       "<Figure size 432x126 with 1 Axes>"
      ]
     },
     "metadata": {},
     "output_type": "display_data"
    }
   ],
   "source": [
    "result = autorank(df, verbose=False)\n",
    "print(result)\n",
    "create_report(result)\n",
    "plot_stats(result)"
   ]
  },
  {
   "cell_type": "markdown",
   "id": "restricted-bridges",
   "metadata": {},
   "source": [
    "## Caesarian"
   ]
  },
  {
   "cell_type": "code",
   "execution_count": 13,
   "id": "revolutionary-motel",
   "metadata": {},
   "outputs": [
    {
     "data": {
      "text/html": [
       "<div>\n",
       "<style scoped>\n",
       "    .dataframe tbody tr th:only-of-type {\n",
       "        vertical-align: middle;\n",
       "    }\n",
       "\n",
       "    .dataframe tbody tr th {\n",
       "        vertical-align: top;\n",
       "    }\n",
       "\n",
       "    .dataframe thead th {\n",
       "        text-align: right;\n",
       "    }\n",
       "</style>\n",
       "<table border=\"1\" class=\"dataframe\">\n",
       "  <thead>\n",
       "    <tr style=\"text-align: right;\">\n",
       "      <th></th>\n",
       "      <th>age</th>\n",
       "      <th>delivery-number</th>\n",
       "      <th>delivery-time</th>\n",
       "      <th>blood-pressure</th>\n",
       "      <th>heart-problem</th>\n",
       "      <th>class</th>\n",
       "    </tr>\n",
       "  </thead>\n",
       "  <tbody>\n",
       "    <tr>\n",
       "      <th>0</th>\n",
       "      <td>22</td>\n",
       "      <td>1</td>\n",
       "      <td>0</td>\n",
       "      <td>2</td>\n",
       "      <td>0</td>\n",
       "      <td>0</td>\n",
       "    </tr>\n",
       "    <tr>\n",
       "      <th>1</th>\n",
       "      <td>26</td>\n",
       "      <td>2</td>\n",
       "      <td>0</td>\n",
       "      <td>1</td>\n",
       "      <td>0</td>\n",
       "      <td>1</td>\n",
       "    </tr>\n",
       "    <tr>\n",
       "      <th>2</th>\n",
       "      <td>26</td>\n",
       "      <td>2</td>\n",
       "      <td>1</td>\n",
       "      <td>1</td>\n",
       "      <td>0</td>\n",
       "      <td>0</td>\n",
       "    </tr>\n",
       "    <tr>\n",
       "      <th>3</th>\n",
       "      <td>28</td>\n",
       "      <td>1</td>\n",
       "      <td>0</td>\n",
       "      <td>2</td>\n",
       "      <td>0</td>\n",
       "      <td>0</td>\n",
       "    </tr>\n",
       "    <tr>\n",
       "      <th>4</th>\n",
       "      <td>22</td>\n",
       "      <td>2</td>\n",
       "      <td>0</td>\n",
       "      <td>1</td>\n",
       "      <td>0</td>\n",
       "      <td>1</td>\n",
       "    </tr>\n",
       "  </tbody>\n",
       "</table>\n",
       "</div>"
      ],
      "text/plain": [
       "   age  delivery-number  delivery-time  blood-pressure  heart-problem  class\n",
       "0   22                1              0               2              0      0\n",
       "1   26                2              0               1              0      1\n",
       "2   26                2              1               1              0      0\n",
       "3   28                1              0               2              0      0\n",
       "4   22                2              0               1              0      1"
      ]
     },
     "execution_count": 13,
     "metadata": {},
     "output_type": "execute_result"
    }
   ],
   "source": [
    "PATH_CAESARIAN = os.path.join('datasets', 'caesarian.csv')\n",
    "caesarian = pd.read_csv(PATH_CAESARIAN, sep=',')\n",
    "caesarian.head()"
   ]
  },
  {
   "cell_type": "code",
   "execution_count": 14,
   "id": "later-jurisdiction",
   "metadata": {},
   "outputs": [
    {
     "name": "stdout",
     "output_type": "stream",
     "text": [
      "(80, 6) (80,) (80, 5)\n"
     ]
    }
   ],
   "source": [
    "# Split data \n",
    "y = caesarian['class'].to_numpy()\n",
    "X = caesarian.drop(['class'], axis=1).to_numpy()\n",
    "print(caesarian.shape, y.shape, X.shape)"
   ]
  },
  {
   "cell_type": "markdown",
   "id": "beginning-hudson",
   "metadata": {
    "tags": []
   },
   "source": [
    "### Decision Tree"
   ]
  },
  {
   "cell_type": "code",
   "execution_count": 15,
   "id": "piano-prescription",
   "metadata": {},
   "outputs": [
    {
     "name": "stdout",
     "output_type": "stream",
     "text": [
      "0.54875\n"
     ]
    }
   ],
   "source": [
    "dt_scores = []\n",
    "for i in range(10):\n",
    "    model = DecisionTreeClassifier(random_state=i)\n",
    "    model.fit(X, y)\n",
    "    dt_scores.extend(cross_val_score(model, X, y, cv=10))\n",
    "print(np.average(dt_scores))"
   ]
  },
  {
   "cell_type": "markdown",
   "id": "retained-offering",
   "metadata": {},
   "source": [
    "### Random Forest"
   ]
  },
  {
   "cell_type": "code",
   "execution_count": 16,
   "id": "seeing-prisoner",
   "metadata": {},
   "outputs": [
    {
     "name": "stdout",
     "output_type": "stream",
     "text": [
      "0.56625\n"
     ]
    }
   ],
   "source": [
    "rf_scores = []\n",
    "for i in range(10):\n",
    "    model = RandomForestClassifier(random_state=i, n_estimators=10)\n",
    "    model.fit(X, y)\n",
    "    rf_scores.extend(cross_val_score(model, X, y, cv=10))\n",
    "print(np.average(rf_scores))"
   ]
  },
  {
   "cell_type": "markdown",
   "id": "played-morocco",
   "metadata": {},
   "source": [
    "### AdaBoost"
   ]
  },
  {
   "cell_type": "code",
   "execution_count": 17,
   "id": "potential-nylon",
   "metadata": {},
   "outputs": [
    {
     "name": "stdout",
     "output_type": "stream",
     "text": [
      "0.5875\n"
     ]
    }
   ],
   "source": [
    "ab_scores = []\n",
    "for i in range(10):\n",
    "    model = AdaBoostClassifier(random_state=i, n_estimators=10)\n",
    "    model.fit(X, y)\n",
    "    ab_scores.extend(cross_val_score(model, X, y, cv=10))\n",
    "print(np.average(ab_scores))"
   ]
  },
  {
   "cell_type": "markdown",
   "id": "eligible-education",
   "metadata": {
    "tags": []
   },
   "source": [
    "### Bagging"
   ]
  },
  {
   "cell_type": "code",
   "execution_count": 18,
   "id": "physical-sequence",
   "metadata": {
    "tags": []
   },
   "outputs": [
    {
     "name": "stdout",
     "output_type": "stream",
     "text": [
      "0.5475\n"
     ]
    }
   ],
   "source": [
    "b_scores = []\n",
    "for i in range(10):\n",
    "    model = BaggingClassifier(random_state=i, n_estimators=10)\n",
    "    model.fit(X, y)\n",
    "    b_scores.extend(cross_val_score(model, X, y, cv=10))\n",
    "print(np.average(b_scores))"
   ]
  },
  {
   "cell_type": "markdown",
   "id": "affecting-native",
   "metadata": {},
   "source": [
    "### Gradient Boosting"
   ]
  },
  {
   "cell_type": "code",
   "execution_count": 19,
   "id": "popular-reserve",
   "metadata": {},
   "outputs": [
    {
     "name": "stdout",
     "output_type": "stream",
     "text": [
      "0.64125\n"
     ]
    }
   ],
   "source": [
    "gb_scores = []\n",
    "for i in range(10):\n",
    "    model = GradientBoostingClassifier(random_state=i, n_estimators=10)\n",
    "    model.fit(X, y)\n",
    "    gb_scores.extend(cross_val_score(model, X, y, cv=10))\n",
    "print(np.average(gb_scores))"
   ]
  },
  {
   "cell_type": "markdown",
   "id": "governmental-glossary",
   "metadata": {
    "tags": []
   },
   "source": [
    "### Autorank Caesarian"
   ]
  },
  {
   "cell_type": "code",
   "execution_count": 20,
   "id": "breeding-publisher",
   "metadata": {},
   "outputs": [
    {
     "data": {
      "text/html": [
       "<div>\n",
       "<style scoped>\n",
       "    .dataframe tbody tr th:only-of-type {\n",
       "        vertical-align: middle;\n",
       "    }\n",
       "\n",
       "    .dataframe tbody tr th {\n",
       "        vertical-align: top;\n",
       "    }\n",
       "\n",
       "    .dataframe thead th {\n",
       "        text-align: right;\n",
       "    }\n",
       "</style>\n",
       "<table border=\"1\" class=\"dataframe\">\n",
       "  <thead>\n",
       "    <tr style=\"text-align: right;\">\n",
       "      <th></th>\n",
       "      <th>DecisionTree</th>\n",
       "      <th>RandomForest</th>\n",
       "      <th>AdaBoost</th>\n",
       "      <th>Bagging</th>\n",
       "      <th>Gradient Boosting</th>\n",
       "    </tr>\n",
       "  </thead>\n",
       "  <tbody>\n",
       "    <tr>\n",
       "      <th>0</th>\n",
       "      <td>0.625</td>\n",
       "      <td>0.375</td>\n",
       "      <td>0.125</td>\n",
       "      <td>0.500</td>\n",
       "      <td>0.625</td>\n",
       "    </tr>\n",
       "    <tr>\n",
       "      <th>1</th>\n",
       "      <td>0.375</td>\n",
       "      <td>0.500</td>\n",
       "      <td>0.375</td>\n",
       "      <td>0.500</td>\n",
       "      <td>0.500</td>\n",
       "    </tr>\n",
       "    <tr>\n",
       "      <th>2</th>\n",
       "      <td>0.875</td>\n",
       "      <td>0.750</td>\n",
       "      <td>0.875</td>\n",
       "      <td>0.875</td>\n",
       "      <td>0.875</td>\n",
       "    </tr>\n",
       "    <tr>\n",
       "      <th>3</th>\n",
       "      <td>0.625</td>\n",
       "      <td>0.500</td>\n",
       "      <td>0.750</td>\n",
       "      <td>0.625</td>\n",
       "      <td>0.750</td>\n",
       "    </tr>\n",
       "    <tr>\n",
       "      <th>4</th>\n",
       "      <td>0.500</td>\n",
       "      <td>0.500</td>\n",
       "      <td>0.750</td>\n",
       "      <td>0.625</td>\n",
       "      <td>0.500</td>\n",
       "    </tr>\n",
       "  </tbody>\n",
       "</table>\n",
       "</div>"
      ],
      "text/plain": [
       "   DecisionTree  RandomForest  AdaBoost  Bagging  Gradient Boosting\n",
       "0         0.625         0.375     0.125    0.500              0.625\n",
       "1         0.375         0.500     0.375    0.500              0.500\n",
       "2         0.875         0.750     0.875    0.875              0.875\n",
       "3         0.625         0.500     0.750    0.625              0.750\n",
       "4         0.500         0.500     0.750    0.625              0.500"
      ]
     },
     "execution_count": 20,
     "metadata": {},
     "output_type": "execute_result"
    }
   ],
   "source": [
    "df = pd.DataFrame()\n",
    "df['DecisionTree'] = dt_scores\n",
    "df['RandomForest'] = rf_scores\n",
    "df['AdaBoost'] = ab_scores\n",
    "df['Bagging'] = b_scores\n",
    "df['Gradient Boosting'] = gb_scores\n",
    "df.head()"
   ]
  },
  {
   "cell_type": "code",
   "execution_count": 21,
   "id": "lasting-aviation",
   "metadata": {},
   "outputs": [
    {
     "name": "stdout",
     "output_type": "stream",
     "text": [
      "RankResult(rankdf=\n",
      "                   meanrank  median       mad ci_lower ci_upper effect_size  \\\n",
      "Gradient Boosting     2.170   0.625  0.185325    0.625    0.625         0.0   \n",
      "AdaBoost              2.675   0.625  0.185325    0.625    0.625         0.0   \n",
      "RandomForest          3.215   0.625  0.185325      0.5    0.625         0.0   \n",
      "Bagging               3.420   0.500  0.185325      0.5    0.625    0.674491   \n",
      "DecisionTree          3.520   0.500  0.185325      0.5    0.625    0.674491   \n",
      "\n",
      "                    magnitude  \n",
      "Gradient Boosting  negligible  \n",
      "AdaBoost           negligible  \n",
      "RandomForest       negligible  \n",
      "Bagging                medium  \n",
      "DecisionTree           medium  \n",
      "pvalue=1.3806463718643442e-13\n",
      "cd=0.6099436402016305\n",
      "omnibus=friedman\n",
      "posthoc=nemenyi\n",
      "all_normal=False\n",
      "pvals_shapiro=[2.008488841909184e-08, 1.0137773642782122e-05, 4.0922387256614456e-08, 3.37982260134595e-06, 1.7273345420676378e-08]\n",
      "homoscedastic=False\n",
      "pval_homogeneity=0.010754083137542196\n",
      "homogeneity_test=levene\n",
      "alpha=0.05\n",
      "alpha_normality=0.01\n",
      "num_samples=100\n",
      "posterior_matrix=\n",
      "None\n",
      "decision_matrix=\n",
      "None\n",
      "rope=None\n",
      "rope_mode=None\n",
      "effect_size=akinshin_gamma)\n",
      "The statistical analysis was conducted for 5 populations with 100 paired samples.\n",
      "The family-wise significance level of the tests is alpha=0.050.\n",
      "We rejected the null hypothesis that the population is normal for the populations Gradient Boosting (p=0.000), AdaBoost (p=0.000), RandomForest (p=0.000), Bagging (p=0.000), and DecisionTree (p=0.000). Therefore, we assume that not all populations are normal.\n",
      "Because we have more than two populations and the populations and some of them are not normal, we use the non-parametric Friedman test as omnibus test to determine if there are any significant differences between the median values of the populations. We use the post-hoc Nemenyi test to infer which differences are significant. We report the median (MD), the median absolute deviation (MAD) and the mean rank (MR) among all populations over the samples. Differences between populations are significant, if the difference of the mean rank is greater than the critical distance CD=0.610 of the Nemenyi test.\n",
      "We reject the null hypothesis (p=0.000) of the Friedman test that there is no difference in the central tendency of the populations Gradient Boosting (MD=0.625+-0.000, MAD=0.185, MR=2.170), AdaBoost (MD=0.625+-0.000, MAD=0.185, MR=2.675), RandomForest (MD=0.625+-0.062, MAD=0.185, MR=3.215), Bagging (MD=0.500+-0.062, MAD=0.185, MR=3.420), and DecisionTree (MD=0.500+-0.062, MAD=0.185, MR=3.520). Therefore, we assume that there is a statistically significant difference between the median values of the populations.\n",
      "Based on the post-hoc Nemenyi test, we assume that there are no significant differences within the following groups: Gradient Boosting and AdaBoost; AdaBoost and RandomForest; RandomForest, Bagging, and DecisionTree. All other differences are significant.\n"
     ]
    },
    {
     "data": {
      "text/plain": [
       "<matplotlib.axes._axes.Axes at 0x19e4dee7100>"
      ]
     },
     "execution_count": 21,
     "metadata": {},
     "output_type": "execute_result"
    },
    {
     "data": {
      "image/png": "[encoded data removed]",
      "text/plain": [
       "<Figure size 432x133.2 with 1 Axes>"
      ]
     },
     "metadata": {},
     "output_type": "display_data"
    }
   ],
   "source": [
    "result = autorank(df, verbose=False)\n",
    "print(result)\n",
    "create_report(result)\n",
    "plot_stats(result)"
   ]
  },
  {
   "cell_type": "markdown",
   "id": "timely-girlfriend",
   "metadata": {},
   "source": [
    "## Website Phishing"
   ]
  },
  {
   "cell_type": "code",
   "execution_count": 22,
   "id": "variable-medicaid",
   "metadata": {},
   "outputs": [
    {
     "data": {
      "text/html": [
       "<div>\n",
       "<style scoped>\n",
       "    .dataframe tbody tr th:only-of-type {\n",
       "        vertical-align: middle;\n",
       "    }\n",
       "\n",
       "    .dataframe tbody tr th {\n",
       "        vertical-align: top;\n",
       "    }\n",
       "\n",
       "    .dataframe thead th {\n",
       "        text-align: right;\n",
       "    }\n",
       "</style>\n",
       "<table border=\"1\" class=\"dataframe\">\n",
       "  <thead>\n",
       "    <tr style=\"text-align: right;\">\n",
       "      <th></th>\n",
       "      <th>having_IP_Address</th>\n",
       "      <th>URL_Length</th>\n",
       "      <th>Shortining_Service</th>\n",
       "      <th>having_At_Symbol</th>\n",
       "      <th>double_slash_redirecting</th>\n",
       "      <th>Prefix_Suffix</th>\n",
       "      <th>having_Sub_Domain</th>\n",
       "      <th>SSLfinal_State</th>\n",
       "      <th>Domain_registeration_length</th>\n",
       "      <th>Favicon</th>\n",
       "      <th>...</th>\n",
       "      <th>popUpWidnow</th>\n",
       "      <th>Iframe</th>\n",
       "      <th>age_of_domain</th>\n",
       "      <th>DNSRecord</th>\n",
       "      <th>web_traffic</th>\n",
       "      <th>Page_Rank</th>\n",
       "      <th>Google_Index</th>\n",
       "      <th>Links_pointing_to_page</th>\n",
       "      <th>Statistical_report</th>\n",
       "      <th>Class</th>\n",
       "    </tr>\n",
       "  </thead>\n",
       "  <tbody>\n",
       "    <tr>\n",
       "      <th>0</th>\n",
       "      <td>-1</td>\n",
       "      <td>1</td>\n",
       "      <td>1</td>\n",
       "      <td>1</td>\n",
       "      <td>-1</td>\n",
       "      <td>-1</td>\n",
       "      <td>-1</td>\n",
       "      <td>-1</td>\n",
       "      <td>-1</td>\n",
       "      <td>1</td>\n",
       "      <td>...</td>\n",
       "      <td>1</td>\n",
       "      <td>1</td>\n",
       "      <td>-1</td>\n",
       "      <td>-1</td>\n",
       "      <td>-1</td>\n",
       "      <td>-1</td>\n",
       "      <td>1</td>\n",
       "      <td>1</td>\n",
       "      <td>-1</td>\n",
       "      <td>-1</td>\n",
       "    </tr>\n",
       "    <tr>\n",
       "      <th>1</th>\n",
       "      <td>1</td>\n",
       "      <td>1</td>\n",
       "      <td>1</td>\n",
       "      <td>1</td>\n",
       "      <td>1</td>\n",
       "      <td>-1</td>\n",
       "      <td>0</td>\n",
       "      <td>1</td>\n",
       "      <td>-1</td>\n",
       "      <td>1</td>\n",
       "      <td>...</td>\n",
       "      <td>1</td>\n",
       "      <td>1</td>\n",
       "      <td>-1</td>\n",
       "      <td>-1</td>\n",
       "      <td>0</td>\n",
       "      <td>-1</td>\n",
       "      <td>1</td>\n",
       "      <td>1</td>\n",
       "      <td>1</td>\n",
       "      <td>-1</td>\n",
       "    </tr>\n",
       "    <tr>\n",
       "      <th>2</th>\n",
       "      <td>1</td>\n",
       "      <td>0</td>\n",
       "      <td>1</td>\n",
       "      <td>1</td>\n",
       "      <td>1</td>\n",
       "      <td>-1</td>\n",
       "      <td>-1</td>\n",
       "      <td>-1</td>\n",
       "      <td>-1</td>\n",
       "      <td>1</td>\n",
       "      <td>...</td>\n",
       "      <td>1</td>\n",
       "      <td>1</td>\n",
       "      <td>1</td>\n",
       "      <td>-1</td>\n",
       "      <td>1</td>\n",
       "      <td>-1</td>\n",
       "      <td>1</td>\n",
       "      <td>0</td>\n",
       "      <td>-1</td>\n",
       "      <td>-1</td>\n",
       "    </tr>\n",
       "    <tr>\n",
       "      <th>3</th>\n",
       "      <td>1</td>\n",
       "      <td>0</td>\n",
       "      <td>1</td>\n",
       "      <td>1</td>\n",
       "      <td>1</td>\n",
       "      <td>-1</td>\n",
       "      <td>-1</td>\n",
       "      <td>-1</td>\n",
       "      <td>1</td>\n",
       "      <td>1</td>\n",
       "      <td>...</td>\n",
       "      <td>1</td>\n",
       "      <td>1</td>\n",
       "      <td>-1</td>\n",
       "      <td>-1</td>\n",
       "      <td>1</td>\n",
       "      <td>-1</td>\n",
       "      <td>1</td>\n",
       "      <td>-1</td>\n",
       "      <td>1</td>\n",
       "      <td>-1</td>\n",
       "    </tr>\n",
       "    <tr>\n",
       "      <th>4</th>\n",
       "      <td>1</td>\n",
       "      <td>0</td>\n",
       "      <td>-1</td>\n",
       "      <td>1</td>\n",
       "      <td>1</td>\n",
       "      <td>-1</td>\n",
       "      <td>1</td>\n",
       "      <td>1</td>\n",
       "      <td>-1</td>\n",
       "      <td>1</td>\n",
       "      <td>...</td>\n",
       "      <td>-1</td>\n",
       "      <td>1</td>\n",
       "      <td>-1</td>\n",
       "      <td>-1</td>\n",
       "      <td>0</td>\n",
       "      <td>-1</td>\n",
       "      <td>1</td>\n",
       "      <td>1</td>\n",
       "      <td>1</td>\n",
       "      <td>1</td>\n",
       "    </tr>\n",
       "  </tbody>\n",
       "</table>\n",
       "<p>5 rows × 31 columns</p>\n",
       "</div>"
      ],
      "text/plain": [
       "   having_IP_Address   URL_Length   Shortining_Service   having_At_Symbol  \\\n",
       "0                 -1            1                    1                  1   \n",
       "1                  1            1                    1                  1   \n",
       "2                  1            0                    1                  1   \n",
       "3                  1            0                    1                  1   \n",
       "4                  1            0                   -1                  1   \n",
       "\n",
       "    double_slash_redirecting   Prefix_Suffix   having_Sub_Domain  \\\n",
       "0                         -1              -1                  -1   \n",
       "1                          1              -1                   0   \n",
       "2                          1              -1                  -1   \n",
       "3                          1              -1                  -1   \n",
       "4                          1              -1                   1   \n",
       "\n",
       "    SSLfinal_State   Domain_registeration_length   Favicon  ...  \\\n",
       "0               -1                            -1         1  ...   \n",
       "1                1                            -1         1  ...   \n",
       "2               -1                            -1         1  ...   \n",
       "3               -1                             1         1  ...   \n",
       "4                1                            -1         1  ...   \n",
       "\n",
       "    popUpWidnow    Iframe   age_of_domain    DNSRecord     web_traffic   \\\n",
       "0              1        1               -1            -1             -1   \n",
       "1              1        1               -1            -1              0   \n",
       "2              1        1                1            -1              1   \n",
       "3              1        1               -1            -1              1   \n",
       "4             -1        1               -1            -1              0   \n",
       "\n",
       "    Page_Rank   Google_Index   Links_pointing_to_page   Statistical_report  \\\n",
       "0          -1              1                        1                   -1   \n",
       "1          -1              1                        1                    1   \n",
       "2          -1              1                        0                   -1   \n",
       "3          -1              1                       -1                    1   \n",
       "4          -1              1                        1                    1   \n",
       "\n",
       "     Class   \n",
       "0        -1  \n",
       "1        -1  \n",
       "2        -1  \n",
       "3        -1  \n",
       "4         1  \n",
       "\n",
       "[5 rows x 31 columns]"
      ]
     },
     "execution_count": 22,
     "metadata": {},
     "output_type": "execute_result"
    }
   ],
   "source": [
    "PATH_PHISHING = os.path.join('datasets', 'website-phishing.csv')\n",
    "phishing = pd.read_csv(PATH_PHISHING, sep=',')\n",
    "phishing.head()"
   ]
  },
  {
   "cell_type": "code",
   "execution_count": 23,
   "id": "nasty-budget",
   "metadata": {},
   "outputs": [
    {
     "name": "stdout",
     "output_type": "stream",
     "text": [
      "(11055, 31) (11055,) (11055, 30)\n"
     ]
    }
   ],
   "source": [
    "# Split data \n",
    "y = phishing['  Class '].to_numpy()\n",
    "X = phishing.drop(['  Class '], axis=1).to_numpy()\n",
    "print(phishing.shape, y.shape, X.shape)"
   ]
  },
  {
   "cell_type": "markdown",
   "id": "caroline-prophet",
   "metadata": {
    "tags": []
   },
   "source": [
    "### Decision Tree"
   ]
  },
  {
   "cell_type": "code",
   "execution_count": 24,
   "id": "aggressive-christian",
   "metadata": {},
   "outputs": [
    {
     "name": "stdout",
     "output_type": "stream",
     "text": [
      "0.9617919943050245\n"
     ]
    }
   ],
   "source": [
    "dt_scores = []\n",
    "for i in range(10):\n",
    "    model = DecisionTreeClassifier(random_state=i)\n",
    "    model.fit(X, y)\n",
    "    dt_scores.extend(cross_val_score(model, X, y, cv=10))\n",
    "print(np.average(dt_scores))"
   ]
  },
  {
   "cell_type": "markdown",
   "id": "posted-signature",
   "metadata": {},
   "source": [
    "### Random Forest"
   ]
  },
  {
   "cell_type": "code",
   "execution_count": 25,
   "id": "treated-philip",
   "metadata": {},
   "outputs": [
    {
     "name": "stdout",
     "output_type": "stream",
     "text": [
      "0.9709224386931014\n"
     ]
    }
   ],
   "source": [
    "rf_scores = []\n",
    "for i in range(10):\n",
    "    model = RandomForestClassifier(random_state=i, n_estimators=10)\n",
    "    model.fit(X, y)\n",
    "    rf_scores.extend(cross_val_score(model, X, y, cv=10))\n",
    "print(np.average(rf_scores))"
   ]
  },
  {
   "cell_type": "markdown",
   "id": "automatic-spanish",
   "metadata": {},
   "source": [
    "### AdaBoost"
   ]
  },
  {
   "cell_type": "code",
   "execution_count": 26,
   "id": "successful-characterization",
   "metadata": {},
   "outputs": [
    {
     "name": "stdout",
     "output_type": "stream",
     "text": [
      "0.9281787534877632\n"
     ]
    }
   ],
   "source": [
    "ab_scores = []\n",
    "for i in range(10):\n",
    "    model = AdaBoostClassifier(random_state=i, n_estimators=10)\n",
    "    model.fit(X, y)\n",
    "    ab_scores.extend(cross_val_score(model, X, y, cv=10))\n",
    "print(np.average(ab_scores))"
   ]
  },
  {
   "cell_type": "markdown",
   "id": "structured-cowboy",
   "metadata": {
    "tags": []
   },
   "source": [
    "### Bagging"
   ]
  },
  {
   "cell_type": "code",
   "execution_count": 27,
   "id": "played-lebanon",
   "metadata": {
    "tags": []
   },
   "outputs": [
    {
     "name": "stdout",
     "output_type": "stream",
     "text": [
      "0.9687688380123227\n"
     ]
    }
   ],
   "source": [
    "b_scores = []\n",
    "for i in range(10):\n",
    "    model = BaggingClassifier(random_state=i, n_estimators=10)\n",
    "    model.fit(X, y)\n",
    "    b_scores.extend(cross_val_score(model, X, y, cv=10))\n",
    "print(np.average(b_scores))"
   ]
  },
  {
   "cell_type": "markdown",
   "id": "educational-digit",
   "metadata": {},
   "source": [
    "### Gradient Boosting"
   ]
  },
  {
   "cell_type": "code",
   "execution_count": 28,
   "id": "removable-radio",
   "metadata": {},
   "outputs": [
    {
     "name": "stdout",
     "output_type": "stream",
     "text": [
      "0.9174147594773062\n"
     ]
    }
   ],
   "source": [
    "gb_scores = []\n",
    "for i in range(10):\n",
    "    model = GradientBoostingClassifier(random_state=i, n_estimators=10)\n",
    "    model.fit(X, y)\n",
    "    gb_scores.extend(cross_val_score(model, X, y, cv=10))\n",
    "print(np.average(gb_scores))"
   ]
  },
  {
   "cell_type": "markdown",
   "id": "careful-trunk",
   "metadata": {
    "tags": []
   },
   "source": [
    "### Autorank Phishing"
   ]
  },
  {
   "cell_type": "code",
   "execution_count": 29,
   "id": "dressed-bristol",
   "metadata": {},
   "outputs": [
    {
     "data": {
      "text/html": [
       "<div>\n",
       "<style scoped>\n",
       "    .dataframe tbody tr th:only-of-type {\n",
       "        vertical-align: middle;\n",
       "    }\n",
       "\n",
       "    .dataframe tbody tr th {\n",
       "        vertical-align: top;\n",
       "    }\n",
       "\n",
       "    .dataframe thead th {\n",
       "        text-align: right;\n",
       "    }\n",
       "</style>\n",
       "<table border=\"1\" class=\"dataframe\">\n",
       "  <thead>\n",
       "    <tr style=\"text-align: right;\">\n",
       "      <th></th>\n",
       "      <th>DecisionTree</th>\n",
       "      <th>RandomForest</th>\n",
       "      <th>AdaBoost</th>\n",
       "      <th>Bagging</th>\n",
       "      <th>Gradient Boosting</th>\n",
       "    </tr>\n",
       "  </thead>\n",
       "  <tbody>\n",
       "    <tr>\n",
       "      <th>0</th>\n",
       "      <td>0.984629</td>\n",
       "      <td>0.983725</td>\n",
       "      <td>0.918626</td>\n",
       "      <td>0.983725</td>\n",
       "      <td>0.906872</td>\n",
       "    </tr>\n",
       "    <tr>\n",
       "      <th>1</th>\n",
       "      <td>0.981917</td>\n",
       "      <td>0.982821</td>\n",
       "      <td>0.920434</td>\n",
       "      <td>0.983725</td>\n",
       "      <td>0.906872</td>\n",
       "    </tr>\n",
       "    <tr>\n",
       "      <th>2</th>\n",
       "      <td>0.969259</td>\n",
       "      <td>0.975588</td>\n",
       "      <td>0.927667</td>\n",
       "      <td>0.973779</td>\n",
       "      <td>0.915009</td>\n",
       "    </tr>\n",
       "    <tr>\n",
       "      <th>3</th>\n",
       "      <td>0.984629</td>\n",
       "      <td>0.981013</td>\n",
       "      <td>0.929476</td>\n",
       "      <td>0.981917</td>\n",
       "      <td>0.915009</td>\n",
       "    </tr>\n",
       "    <tr>\n",
       "      <th>4</th>\n",
       "      <td>0.973779</td>\n",
       "      <td>0.977396</td>\n",
       "      <td>0.928571</td>\n",
       "      <td>0.979204</td>\n",
       "      <td>0.923146</td>\n",
       "    </tr>\n",
       "  </tbody>\n",
       "</table>\n",
       "</div>"
      ],
      "text/plain": [
       "   DecisionTree  RandomForest  AdaBoost   Bagging  Gradient Boosting\n",
       "0      0.984629      0.983725  0.918626  0.983725           0.906872\n",
       "1      0.981917      0.982821  0.920434  0.983725           0.906872\n",
       "2      0.969259      0.975588  0.927667  0.973779           0.915009\n",
       "3      0.984629      0.981013  0.929476  0.981917           0.915009\n",
       "4      0.973779      0.977396  0.928571  0.979204           0.923146"
      ]
     },
     "execution_count": 29,
     "metadata": {},
     "output_type": "execute_result"
    }
   ],
   "source": [
    "df = pd.DataFrame()\n",
    "df['DecisionTree'] = dt_scores\n",
    "df['RandomForest'] = rf_scores\n",
    "df['AdaBoost'] = ab_scores\n",
    "df['Bagging'] = b_scores\n",
    "df['Gradient Boosting'] = gb_scores\n",
    "df.head()"
   ]
  },
  {
   "cell_type": "code",
   "execution_count": 30,
   "id": "nutritional-director",
   "metadata": {},
   "outputs": [
    {
     "name": "stdout",
     "output_type": "stream",
     "text": [
      "RankResult(rankdf=\n",
      "                   meanrank    median       mad  ci_lower  ci_upper  \\\n",
      "RandomForest          1.555  0.972863  0.016104  0.962896  0.981917   \n",
      "Bagging               1.890  0.971946  0.017464  0.958371  0.981917   \n",
      "DecisionTree          2.625  0.966983  0.026162  0.948416    0.9783   \n",
      "AdaBoost              3.930  0.928119  0.008625  0.927602  0.929476   \n",
      "Gradient Boosting     5.000  0.916328  0.011405  0.915009  0.923146   \n",
      "\n",
      "                  effect_size   magnitude  \n",
      "RandomForest              0.0  negligible  \n",
      "Bagging              0.054605  negligible  \n",
      "DecisionTree         0.270671       small  \n",
      "AdaBoost             3.463745       large  \n",
      "Gradient Boosting    4.051599       large  \n",
      "pvalue=3.281283374624996e-72\n",
      "cd=0.6099436402016305\n",
      "omnibus=friedman\n",
      "posthoc=nemenyi\n",
      "all_normal=False\n",
      "pvals_shapiro=[3.20168567213841e-08, 9.56026610765548e-07, 4.856309260503622e-06, 1.5236132639984135e-06, 7.646086714885314e-07]\n",
      "homoscedastic=False\n",
      "pval_homogeneity=1.242907377739366e-32\n",
      "homogeneity_test=levene\n",
      "alpha=0.05\n",
      "alpha_normality=0.01\n",
      "num_samples=100\n",
      "posterior_matrix=\n",
      "None\n",
      "decision_matrix=\n",
      "None\n",
      "rope=None\n",
      "rope_mode=None\n",
      "effect_size=akinshin_gamma)\n",
      "The statistical analysis was conducted for 5 populations with 100 paired samples.\n",
      "The family-wise significance level of the tests is alpha=0.050.\n",
      "We rejected the null hypothesis that the population is normal for the populations RandomForest (p=0.000), Bagging (p=0.000), DecisionTree (p=0.000), AdaBoost (p=0.000), and Gradient Boosting (p=0.000). Therefore, we assume that not all populations are normal.\n",
      "Because we have more than two populations and the populations and some of them are not normal, we use the non-parametric Friedman test as omnibus test to determine if there are any significant differences between the median values of the populations. We use the post-hoc Nemenyi test to infer which differences are significant. We report the median (MD), the median absolute deviation (MAD) and the mean rank (MR) among all populations over the samples. Differences between populations are significant, if the difference of the mean rank is greater than the critical distance CD=0.610 of the Nemenyi test.\n",
      "We reject the null hypothesis (p=0.000) of the Friedman test that there is no difference in the central tendency of the populations RandomForest (MD=0.973+-0.010, MAD=0.016, MR=1.555), Bagging (MD=0.972+-0.012, MAD=0.017, MR=1.890), DecisionTree (MD=0.967+-0.015, MAD=0.026, MR=2.625), AdaBoost (MD=0.928+-0.001, MAD=0.009, MR=3.930), and Gradient Boosting (MD=0.916+-0.004, MAD=0.011, MR=5.000). Therefore, we assume that there is a statistically significant difference between the median values of the populations.\n",
      "Based on the post-hoc Nemenyi test, we assume that there are no significant differences within the following groups: RandomForest and Bagging. All other differences are significant.\n"
     ]
    },
    {
     "data": {
      "text/plain": [
       "<matplotlib.axes._axes.Axes at 0x19e4cae1430>"
      ]
     },
     "execution_count": 30,
     "metadata": {},
     "output_type": "execute_result"
    },
    {
     "data": {
      "image/png": "[encoded data removed]",
      "text/plain": [
       "<Figure size 432x118.8 with 1 Axes>"
      ]
     },
     "metadata": {},
     "output_type": "display_data"
    }
   ],
   "source": [
    "result = autorank(df, verbose=False)\n",
    "print(result)\n",
    "create_report(result)\n",
    "plot_stats(result)"
   ]
  },
  {
   "cell_type": "markdown",
   "id": "northern-bubble",
   "metadata": {},
   "source": [
    "## "
   ]
  },
  {
   "cell_type": "markdown",
   "id": "growing-puppy",
   "metadata": {},
   "source": [
    "## Task 3"
   ]
  },
  {
   "cell_type": "markdown",
   "id": "specified-communication",
   "metadata": {},
   "source": [
    "RandomForest, Bagging, AdaBoost and Gradient Boosting have all been the \"best\" before, so trying to find dataset which works well for Decision Tree"
   ]
  },
  {
   "cell_type": "code",
   "execution_count": 31,
   "id": "elementary-ridge",
   "metadata": {},
   "outputs": [],
   "source": [
    "from pandas.api.types import CategoricalDtype"
   ]
  },
  {
   "cell_type": "code",
   "execution_count": 32,
   "id": "professional-finland",
   "metadata": {},
   "outputs": [
    {
     "data": {
      "text/html": [
       "<div>\n",
       "<style scoped>\n",
       "    .dataframe tbody tr th:only-of-type {\n",
       "        vertical-align: middle;\n",
       "    }\n",
       "\n",
       "    .dataframe tbody tr th {\n",
       "        vertical-align: top;\n",
       "    }\n",
       "\n",
       "    .dataframe thead th {\n",
       "        text-align: right;\n",
       "    }\n",
       "</style>\n",
       "<table border=\"1\" class=\"dataframe\">\n",
       "  <thead>\n",
       "    <tr style=\"text-align: right;\">\n",
       "      <th></th>\n",
       "      <th>Sepal Length</th>\n",
       "      <th>Sepal Width</th>\n",
       "      <th>Petal Length</th>\n",
       "      <th>Petal Width</th>\n",
       "      <th>Class</th>\n",
       "    </tr>\n",
       "  </thead>\n",
       "  <tbody>\n",
       "    <tr>\n",
       "      <th>0</th>\n",
       "      <td>5.1</td>\n",
       "      <td>3.5</td>\n",
       "      <td>1.4</td>\n",
       "      <td>0.2</td>\n",
       "      <td>0</td>\n",
       "    </tr>\n",
       "    <tr>\n",
       "      <th>1</th>\n",
       "      <td>4.9</td>\n",
       "      <td>3.0</td>\n",
       "      <td>1.4</td>\n",
       "      <td>0.2</td>\n",
       "      <td>0</td>\n",
       "    </tr>\n",
       "    <tr>\n",
       "      <th>2</th>\n",
       "      <td>4.7</td>\n",
       "      <td>3.2</td>\n",
       "      <td>1.3</td>\n",
       "      <td>0.2</td>\n",
       "      <td>0</td>\n",
       "    </tr>\n",
       "    <tr>\n",
       "      <th>3</th>\n",
       "      <td>4.6</td>\n",
       "      <td>3.1</td>\n",
       "      <td>1.5</td>\n",
       "      <td>0.2</td>\n",
       "      <td>0</td>\n",
       "    </tr>\n",
       "    <tr>\n",
       "      <th>4</th>\n",
       "      <td>5.0</td>\n",
       "      <td>3.6</td>\n",
       "      <td>1.4</td>\n",
       "      <td>0.2</td>\n",
       "      <td>0</td>\n",
       "    </tr>\n",
       "  </tbody>\n",
       "</table>\n",
       "</div>"
      ],
      "text/plain": [
       "   Sepal Length  Sepal Width  Petal Length  Petal Width  Class\n",
       "0           5.1          3.5           1.4          0.2      0\n",
       "1           4.9          3.0           1.4          0.2      0\n",
       "2           4.7          3.2           1.3          0.2      0\n",
       "3           4.6          3.1           1.5          0.2      0\n",
       "4           5.0          3.6           1.4          0.2      0"
      ]
     },
     "execution_count": 32,
     "metadata": {},
     "output_type": "execute_result"
    }
   ],
   "source": [
    "PATH_IRIS = os.path.join('datasets', 'iris.data')\n",
    "iris = pd.read_table(PATH_IRIS, sep=',', header=None, names=['Sepal Length', 'Sepal Width','Petal Length','Petal Width','Class'])\n",
    "\n",
    "col_to_replace = \"Class\"\n",
    "col1 = iris[col_to_replace].unique()\n",
    "iris_types = CategoricalDtype(categories=col1)\n",
    "iris[col_to_replace] = iris[col_to_replace].astype(iris_types).cat.codes.astype('long')\n",
    "\n",
    "iris.head()"
   ]
  },
  {
   "cell_type": "code",
   "execution_count": 33,
   "id": "conscious-round",
   "metadata": {},
   "outputs": [
    {
     "name": "stdout",
     "output_type": "stream",
     "text": [
      "(150, 5) (150,) (150, 4)\n"
     ]
    }
   ],
   "source": [
    "# Split data \n",
    "class_col = \"Class\"\n",
    "y = iris[class_col].to_numpy()\n",
    "X = iris.drop([class_col], axis=1).to_numpy()\n",
    "print(iris.shape, y.shape, X.shape)"
   ]
  },
  {
   "cell_type": "markdown",
   "id": "bulgarian-relevance",
   "metadata": {
    "tags": []
   },
   "source": [
    "### Decision Tree"
   ]
  },
  {
   "cell_type": "code",
   "execution_count": 34,
   "id": "played-heart",
   "metadata": {},
   "outputs": [
    {
     "name": "stdout",
     "output_type": "stream",
     "text": [
      "0.9580000000000001\n"
     ]
    }
   ],
   "source": [
    "dt_scores = []\n",
    "for i in range(10):\n",
    "    model = DecisionTreeClassifier(random_state=i)\n",
    "    model.fit(X, y)\n",
    "    dt_scores.extend(cross_val_score(model, X, y, cv=10))\n",
    "print(np.average(dt_scores))"
   ]
  },
  {
   "cell_type": "markdown",
   "id": "placed-morocco",
   "metadata": {},
   "source": [
    "### Random Forest"
   ]
  },
  {
   "cell_type": "code",
   "execution_count": 35,
   "id": "geographic-november",
   "metadata": {},
   "outputs": [
    {
     "name": "stdout",
     "output_type": "stream",
     "text": [
      "0.9580000000000001\n"
     ]
    }
   ],
   "source": [
    "rf_scores = []\n",
    "for i in range(10):\n",
    "    model = RandomForestClassifier(random_state=i, n_estimators=10)\n",
    "    model.fit(X, y)\n",
    "    rf_scores.extend(cross_val_score(model, X, y, cv=10))\n",
    "print(np.average(rf_scores))"
   ]
  },
  {
   "cell_type": "markdown",
   "id": "unlikely-rendering",
   "metadata": {},
   "source": [
    "### AdaBoost"
   ]
  },
  {
   "cell_type": "code",
   "execution_count": 36,
   "id": "fitting-mailing",
   "metadata": {},
   "outputs": [
    {
     "name": "stdout",
     "output_type": "stream",
     "text": [
      "0.9533333333333333\n"
     ]
    }
   ],
   "source": [
    "ab_scores = []\n",
    "for i in range(10):\n",
    "    model = AdaBoostClassifier(random_state=i, n_estimators=10)\n",
    "    model.fit(X, y)\n",
    "    ab_scores.extend(cross_val_score(model, X, y, cv=10))\n",
    "print(np.average(ab_scores))"
   ]
  },
  {
   "cell_type": "markdown",
   "id": "loaded-fusion",
   "metadata": {
    "tags": []
   },
   "source": [
    "### Bagging"
   ]
  },
  {
   "cell_type": "code",
   "execution_count": 37,
   "id": "heard-cambridge",
   "metadata": {
    "tags": []
   },
   "outputs": [
    {
     "name": "stdout",
     "output_type": "stream",
     "text": [
      "0.9546666666666668\n"
     ]
    }
   ],
   "source": [
    "b_scores = []\n",
    "for i in range(10):\n",
    "    model = BaggingClassifier(random_state=i, n_estimators=10)\n",
    "    model.fit(X, y)\n",
    "    b_scores.extend(cross_val_score(model, X, y, cv=10))\n",
    "print(np.average(b_scores))"
   ]
  },
  {
   "cell_type": "markdown",
   "id": "structured-portrait",
   "metadata": {},
   "source": [
    "### Gradient Boosting"
   ]
  },
  {
   "cell_type": "code",
   "execution_count": 38,
   "id": "mediterranean-passage",
   "metadata": {},
   "outputs": [
    {
     "name": "stdout",
     "output_type": "stream",
     "text": [
      "0.9600000000000002\n"
     ]
    }
   ],
   "source": [
    "gb_scores = []\n",
    "for i in range(10):\n",
    "    model = GradientBoostingClassifier(random_state=i, n_estimators=10)\n",
    "    model.fit(X, y)\n",
    "    gb_scores.extend(cross_val_score(model, X, y, cv=10))\n",
    "print(np.average(gb_scores))"
   ]
  },
  {
   "cell_type": "code",
   "execution_count": 39,
   "id": "guilty-segment",
   "metadata": {},
   "outputs": [
    {
     "data": {
      "text/html": [
       "<div>\n",
       "<style scoped>\n",
       "    .dataframe tbody tr th:only-of-type {\n",
       "        vertical-align: middle;\n",
       "    }\n",
       "\n",
       "    .dataframe tbody tr th {\n",
       "        vertical-align: top;\n",
       "    }\n",
       "\n",
       "    .dataframe thead th {\n",
       "        text-align: right;\n",
       "    }\n",
       "</style>\n",
       "<table border=\"1\" class=\"dataframe\">\n",
       "  <thead>\n",
       "    <tr style=\"text-align: right;\">\n",
       "      <th></th>\n",
       "      <th>DecisionTree</th>\n",
       "      <th>RandomForest</th>\n",
       "      <th>AdaBoost</th>\n",
       "      <th>Bagging</th>\n",
       "      <th>Gradient Boosting</th>\n",
       "    </tr>\n",
       "  </thead>\n",
       "  <tbody>\n",
       "    <tr>\n",
       "      <th>0</th>\n",
       "      <td>1.000000</td>\n",
       "      <td>1.000000</td>\n",
       "      <td>1.000000</td>\n",
       "      <td>1.000000</td>\n",
       "      <td>1.000000</td>\n",
       "    </tr>\n",
       "    <tr>\n",
       "      <th>1</th>\n",
       "      <td>0.933333</td>\n",
       "      <td>0.933333</td>\n",
       "      <td>0.933333</td>\n",
       "      <td>0.933333</td>\n",
       "      <td>0.933333</td>\n",
       "    </tr>\n",
       "    <tr>\n",
       "      <th>2</th>\n",
       "      <td>1.000000</td>\n",
       "      <td>1.000000</td>\n",
       "      <td>1.000000</td>\n",
       "      <td>1.000000</td>\n",
       "      <td>1.000000</td>\n",
       "    </tr>\n",
       "    <tr>\n",
       "      <th>3</th>\n",
       "      <td>0.933333</td>\n",
       "      <td>0.933333</td>\n",
       "      <td>0.933333</td>\n",
       "      <td>0.933333</td>\n",
       "      <td>0.933333</td>\n",
       "    </tr>\n",
       "    <tr>\n",
       "      <th>4</th>\n",
       "      <td>0.933333</td>\n",
       "      <td>0.933333</td>\n",
       "      <td>0.933333</td>\n",
       "      <td>0.933333</td>\n",
       "      <td>0.933333</td>\n",
       "    </tr>\n",
       "  </tbody>\n",
       "</table>\n",
       "</div>"
      ],
      "text/plain": [
       "   DecisionTree  RandomForest  AdaBoost   Bagging  Gradient Boosting\n",
       "0      1.000000      1.000000  1.000000  1.000000           1.000000\n",
       "1      0.933333      0.933333  0.933333  0.933333           0.933333\n",
       "2      1.000000      1.000000  1.000000  1.000000           1.000000\n",
       "3      0.933333      0.933333  0.933333  0.933333           0.933333\n",
       "4      0.933333      0.933333  0.933333  0.933333           0.933333"
      ]
     },
     "execution_count": 39,
     "metadata": {},
     "output_type": "execute_result"
    }
   ],
   "source": [
    "df = pd.DataFrame()\n",
    "df['DecisionTree'] = dt_scores\n",
    "df['RandomForest'] = rf_scores\n",
    "df['AdaBoost'] = ab_scores\n",
    "df['Bagging'] = b_scores\n",
    "df['Gradient Boosting'] = gb_scores\n",
    "df.head()"
   ]
  },
  {
   "cell_type": "markdown",
   "id": "chinese-escape",
   "metadata": {},
   "source": [
    "### Autorank Iris"
   ]
  },
  {
   "cell_type": "code",
   "execution_count": 40,
   "id": "adjacent-complement",
   "metadata": {},
   "outputs": [
    {
     "name": "stdout",
     "output_type": "stream",
     "text": [
      "RankResult(rankdf=\n",
      "                   meanrank    median      mad  ci_lower ci_upper effect_size  \\\n",
      "Gradient Boosting     2.890  0.966667  0.04942  0.933333      1.0         0.0   \n",
      "DecisionTree          2.965  0.933333  0.09884  0.933333      1.0    0.426585   \n",
      "RandomForest          2.965  0.933333  0.09884  0.933333      1.0    0.426585   \n",
      "Bagging               3.050  0.933333  0.09884  0.933333      1.0    0.426585   \n",
      "AdaBoost              3.130  0.966667  0.04942  0.933333      1.0         0.0   \n",
      "\n",
      "                    magnitude  \n",
      "Gradient Boosting  negligible  \n",
      "DecisionTree            small  \n",
      "RandomForest            small  \n",
      "Bagging                 small  \n",
      "AdaBoost           negligible  \n",
      "pvalue=0.0809968894509315\n",
      "cd=0.6099436402016305\n",
      "omnibus=friedman\n",
      "posthoc=nemenyi\n",
      "all_normal=False\n",
      "pvals_shapiro=[1.6170119063185773e-11, 1.4694337760468024e-11, 1.2965366627537556e-11, 5.242625777945875e-11, 9.313077219130772e-12]\n",
      "homoscedastic=True\n",
      "pval_homogeneity=0.16331863394784626\n",
      "homogeneity_test=levene\n",
      "alpha=0.05\n",
      "alpha_normality=0.01\n",
      "num_samples=100\n",
      "posterior_matrix=\n",
      "None\n",
      "decision_matrix=\n",
      "None\n",
      "rope=None\n",
      "rope_mode=None\n",
      "effect_size=akinshin_gamma)\n",
      "The statistical analysis was conducted for 5 populations with 100 paired samples.\n",
      "The family-wise significance level of the tests is alpha=0.050.\n",
      "We rejected the null hypothesis that the population is normal for the populations Gradient Boosting (p=0.000), DecisionTree (p=0.000), RandomForest (p=0.000), Bagging (p=0.000), and AdaBoost (p=0.000). Therefore, we assume that not all populations are normal.\n",
      "Because we have more than two populations and the populations and some of them are not normal, we use the non-parametric Friedman test as omnibus test to determine if there are any significant differences between the median values of the populations. We use the post-hoc Nemenyi test to infer which differences are significant. We report the median (MD), the median absolute deviation (MAD) and the mean rank (MR) among all populations over the samples. Differences between populations are significant, if the difference of the mean rank is greater than the critical distance CD=0.610 of the Nemenyi test.\n",
      "We failed to reject the null hypothesis (p=0.081) of the Friedman test that there is no difference in the central tendency of the populations Gradient Boosting (MD=0.967+-0.033, MAD=0.049, MR=2.890), DecisionTree (MD=0.933+-0.033, MAD=0.099, MR=2.965), RandomForest (MD=0.933+-0.033, MAD=0.099, MR=2.965), Bagging (MD=0.933+-0.033, MAD=0.099, MR=3.050), and AdaBoost (MD=0.967+-0.033, MAD=0.049, MR=3.130). Therefore, we assume that there is no statistically significant difference between the median values of the populations.\n"
     ]
    },
    {
     "data": {
      "text/plain": [
       "<matplotlib.axes._axes.Axes at 0x19e4dff96a0>"
      ]
     },
     "execution_count": 40,
     "metadata": {},
     "output_type": "execute_result"
    },
    {
     "data": {
      "image/png": "[encoded data removed]",
      "text/plain": [
       "<Figure size 432x118.8 with 1 Axes>"
      ]
     },
     "metadata": {},
     "output_type": "display_data"
    }
   ],
   "source": [
    "result = autorank(df, verbose=False)\n",
    "print(result)\n",
    "create_report(result)\n",
    "plot_stats(result, allow_insignificant=True)"
   ]
  },
  {
   "cell_type": "markdown",
   "id": "sexual-assignment",
   "metadata": {},
   "source": [
    "# 1 Experiment Findings\n",
    "\n",
    "## 1.1 Arrhythmia\n",
    "| Model             | Median | MAD   |\n",
    "|-------------------|--------|-------|\n",
    "| Decision Tree     | 0.64   | 0.066 |\n",
    "| Randomforest      | 0.71   | 0.042 |\n",
    "| AdaBoost          | 0.60   | 0.033 |\n",
    "| Bagging           | 0.73   | 0.066 |\n",
    "| Gradient Boosting | 0.71   | 0.033 |\n",
    "\n",
    "## 1.2 Caesarian\n",
    "\n",
    "| Model             | Median | MAD  |\n",
    "|-------------------|--------|------|\n",
    "| Decision Tree     | 0.50   | 0.19 |\n",
    "| Randomforest      | 0.50   | 0.19 |\n",
    "| AdaBoost          | 0.63   | 0.19 |\n",
    "| Bagging           | 0.50   | 0.19 |\n",
    "| Gradient Boosting | 0.63   | 0.19 |\n",
    "\n",
    "## 1.3 Website Phishing\n",
    "| Model             | Median | MAD    |\n",
    "|-------------------|--------|--------|\n",
    "| Decision Tree     | 0.97   | 0.025  |\n",
    "| Randomforest      | 0.97   | 0.015  |\n",
    "| AdaBoost          | 0.93   | 0.0086 |\n",
    "| Bagging           | 0.97   | 0.017  |\n",
    "| Gradient Boosting | 0.92   | 0.011  |\n",
    "\n"
   ]
  },
  {
   "cell_type": "markdown",
   "id": "premier-clarity",
   "metadata": {},
   "source": [
    "# 2 Description of Experimental Design\n",
    "Perform 10 runs of 10-fold cross validation for each model to retrieve and aggregate scores. \n",
    "10-fold cross validation ensures that the test set is large enough to retrieve accurate scores. This is performed 10 times to get more data to help produce significant results.   \n",
    "To ensure different models are trained each time, we use a different random seed in each run.\n",
    "The scores for all models are then inputted into autorank to perform statistical analysis.\n",
    "\n",
    "\n",
    "The experimental design did not need to change for Task 2, as the new ensemble model introduced was similar to test as the other models."
   ]
  },
  {
   "cell_type": "markdown",
   "id": "assisted-remainder",
   "metadata": {},
   "source": [
    "# 3 Dataset Analysis\n",
    "\n",
    "## 3.1 Arrhythmia\n",
    "280 Attributes 452 Rows  \n",
    "Bagging works the best for this dataset. Compared to the number of rows, the number of attributes is quite high. Therefore, each split in the decision tree extracts the most information per row.    \n",
    "## 3.2 Caesarian\n",
    "6 Attributes 80 Rows  \n",
    "AdaBoost works the best for this dataset. This is because with a lower amount of rows, the other ensemble algorithms are not able to generalise a solution. Adaboost focuses on the predictions which it fails at, which gives it an advantage.    \n",
    "## 3.3 Website Phishing\n",
    "31 Attributes 11055 Rows   \n",
    "Random Forest works the best for this dataset. With such a large amount of rows, smaller details in a dataset can be focused on. Bagging considers all features when building the decision trees. This is worse for larger rows as only it limits the selection of decision trees.   \n",
    "\n",
    "## 3.4 Best General Algorithm\n",
    "| Model             | Total Ranking |\n",
    "|-------------------|---------------|\n",
    "| Decision Tree     | 4+3+1 = 8     |\n",
    "| Randomforest      | 3+3+1 = 7     |\n",
    "| AdaBoost          | 5+1+4 = 10    |\n",
    "| Bagging           | 1+3+1 = 5     |\n",
    "| Gradient Boosting | 3+1+5 = 9     |\n",
    "\n",
    "Bagging is the best general algorithm based on ranking analysis. It performs best or equal in 2 of the datasets, and 3rd in another.\n",
    "\n"
   ]
  },
  {
   "cell_type": "code",
   "execution_count": null,
   "id": "established-appeal",
   "metadata": {},
   "outputs": [],
   "source": []
  }
 ],
 "metadata": {
  "kernelspec": {
   "display_name": "Python 3",
   "language": "python",
   "name": "python3"
  },
  "language_info": {
   "codemirror_mode": {
    "name": "ipython",
    "version": 3
   },
   "file_extension": ".py",
   "mimetype": "text/x-python",
   "name": "python",
   "nbconvert_exporter": "python",
   "pygments_lexer": "ipython3",
   "version": "3.9.2"
  },
  "toc-showmarkdowntxt": false
 },
 "nbformat": 4,
 "nbformat_minor": 5
}
